{
 "cells": [
  {
   "cell_type": "markdown",
   "metadata": {},
   "source": [
    "# 데이터분석\n",
    "- 머신러닝\n",
    "    - 기계가 배움\n",
    "- 딥러닝 (은 머신러닝의 한 종류)\n",
    "- 통계분석\n",
    "\n",
    "수학 + 프로그래밍\n",
    "\n",
    "인강에 나오는 내용 외에 추가로 공부를 많이 해야함\n",
    "인강 내용은 기초 중에 기초\n",
    "\n",
    "머리로 하는 학문이 아니고, 손으로 하는 학문\n",
    "\n",
    "수영, 자전거, 운전처럼 공부하자\n",
    "\n",
    "코딩은 여러분이 키보드를 친 횟수에 비례함\n",
    "\n",
    "손으로 다 적어보고 풀기\n",
    "\n",
    "배운 거를 필사를 해서 매니저님께 제출\n",
    "\n",
    "규칙 기반 AI (규칙을 알려줌) : 전문가 AI\n",
    "- 번역\n",
    "    - 사전, 문법책 (규칙이 담겨 있는 책)\n",
    "    -> 실패\n",
    "- 교과서\n",
    "    \n",
    "데이터 기반 AI (규칙을 학습하는 방법을 알려줌) - > 머신러닝\n",
    "- 어린아이 학습 시키듯\n",
    "- 사진을 보여주며 이건 개야 이건 고양이야를 알려주며, 직접 학습하도록\n",
    "- 학습에는 시험이 필요함. 시험을 안보면 학습이 안됨\n",
    "- 문제집 == 학습기반\n",
    "- 문제집과 답지를 보며, 내가 직접 풀어보고 답을 비교해보며 학습함\n",
    "\n",
    "\n",
    "규칙이 있다고 믿으면, 데이터 분석을 실행\n"
   ]
  }
 ],
 "metadata": {
  "kernelspec": {
   "display_name": "Python 3",
   "language": "python",
   "name": "python3"
  },
  "language_info": {
   "codemirror_mode": {
    "name": "ipython",
    "version": 3
   },
   "file_extension": ".py",
   "mimetype": "text/x-python",
   "name": "python",
   "nbconvert_exporter": "python",
   "pygments_lexer": "ipython3",
   "version": "3.7.6"
  }
 },
 "nbformat": 4,
 "nbformat_minor": 4
}
