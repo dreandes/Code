{
 "cells": [
  {
   "cell_type": "markdown",
   "metadata": {},
   "source": [
    "어떤 공장에서 두가지 제품을 생산해야 한다고 하자.\n",
    "- 제품 A와 제품 B 각각 100개 이상 생산해야 한다.\n",
    "\n",
    "x1 >= 100, x2 >= 100\n",
    "\n",
    "- 시간은 500시간 밖에 없다.\n",
    "- 제품 A는 생산하는데 1시간이 걸리고 제품 B는 2시간이 걸린다.\n",
    "\n",
    "x1 + 2 * x2 <= 500\n",
    "\n",
    "- 특정 부품이 9800개 밖에 없다.\n",
    "- 제품 A는 생산하는데 특정 부품을 4개 필요로 하고 제품 B는 생산하는데 특정 부품을 5개 필요로 한다.\n",
    "\n",
    "4 * x1 + 5 * x2 <= 9800\n",
    "\n",
    "- 제품 A의 이익은 하나당 3만원이고 제품 B의 이익은 하나당 5만원이다.\n",
    "\n",
    "arg max 3 * x1 + 5 * x2 \n",
    "\n",
    "### 최소화하려는 목적함수\n",
    "\n",
    "-> arg min -3 * x1 - 5 * x2\n",
    "\n",
    "### 제한조건\n",
    "\n",
    "-x1 <= -100\n",
    "\n",
    "-x2 <= -100\n",
    "\n",
    "##### 왜 위에 둘만 -1을 곱하는건지? 모든 제한조건에 동일하게 곱해줘야하는 것이 아닌지?\n",
    "\n",
    "\n",
    "x1 + 2*x2 <= 500\n",
    "\n",
    "4 * x1 + 5 * x2 <= 9800\n",
    "\n",
    "x1 >= 0, x2 >= 0"
   ]
  },
  {
   "cell_type": "code",
   "execution_count": 27,
   "metadata": {},
   "outputs": [],
   "source": [
    "c = np.array([-3, -5]) # 목적함수의 계수 벡터\n",
    "A = np.array([[-1, 0], [0, -1], [1, 2], [4, 5]])\n",
    "b = np.array([ [-100], [-100], [500], [9800] ])\n",
    "#b = np.array([-100, -100, 500, 9800])\n",
    "# 위 둘 b의 차이\n",
    "# 만약 4 x 1 벡터일 경우 어떻게 쓰는게 맞는건지?"
   ]
  },
  {
   "cell_type": "code",
   "execution_count": 28,
   "metadata": {},
   "outputs": [
    {
     "data": {
      "text/plain": [
       "array([-3, -5])"
      ]
     },
     "execution_count": 28,
     "metadata": {},
     "output_type": "execute_result"
    }
   ],
   "source": [
    "c"
   ]
  },
  {
   "cell_type": "code",
   "execution_count": 29,
   "metadata": {},
   "outputs": [
    {
     "data": {
      "text/plain": [
       "array([[-1,  0],\n",
       "       [ 0, -1],\n",
       "       [ 1,  2],\n",
       "       [ 4,  5]])"
      ]
     },
     "execution_count": 29,
     "metadata": {},
     "output_type": "execute_result"
    }
   ],
   "source": [
    "A"
   ]
  },
  {
   "cell_type": "code",
   "execution_count": 30,
   "metadata": {},
   "outputs": [
    {
     "data": {
      "text/plain": [
       "array([[-100],\n",
       "       [-100],\n",
       "       [ 500],\n",
       "       [9800]])"
      ]
     },
     "execution_count": 30,
     "metadata": {},
     "output_type": "execute_result"
    }
   ],
   "source": [
    "b"
   ]
  },
  {
   "cell_type": "code",
   "execution_count": 31,
   "metadata": {},
   "outputs": [
    {
     "data": {
      "text/plain": [
       "     con: array([], dtype=float64)\n",
       "     fun: -1399.999994807384\n",
       " message: 'Optimization terminated successfully.'\n",
       "     nit: 6\n",
       "   slack: array([1.99999991e+02, 4.19920389e-06, 3.31137414e-07, 8.10000001e+03])\n",
       "  status: 0\n",
       " success: True\n",
       "       x: array([299.99999127, 100.0000042 ])"
      ]
     },
     "execution_count": 31,
     "metadata": {},
     "output_type": "execute_result"
    }
   ],
   "source": [
    "sp.optimize.linprog(c, A, b)"
   ]
  },
  {
   "cell_type": "code",
   "execution_count": 37,
   "metadata": {},
   "outputs": [
    {
     "name": "stdout",
     "output_type": "stream",
     "text": [
      "상태: optimal\n",
      "최적값: 299.99999911572195 100.00000058337798\n"
     ]
    }
   ],
   "source": [
    "import cvxpy as cp\n",
    "\n",
    "# 변수의 정의\n",
    "a = cp.Variable() # A의 생산량\n",
    "b = cp.Variable() # B의 생산량\n",
    "\n",
    "# 조건의 정의\n",
    "constraints = [\n",
    "    a >= 100, # A를 100개 이상 생산해야 한다.\n",
    "    b >= 100, # B를 100개 이상 생산해야 한다.\n",
    "    a + 2 * b <= 500, # 500시간 내에 생산해야 한다.\n",
    "    4 * a + 5 * b <= 9800, # 부품이 9800개 밖에 없다.\n",
    "]\n",
    "\n",
    "# 문제의 정의\n",
    "obj = cp.Maximize(3 * a + 5 * b)\n",
    "prob = cp.Problem(obj, constraints)\n",
    "\n",
    "# 계산\n",
    "prob.solve()\n",
    "\n",
    "# 결과\n",
    "print(\"상태:\", prob.status)\n",
    "print(\"최적값:\", a.value, b.value)"
   ]
  },
  {
   "cell_type": "code",
   "execution_count": 39,
   "metadata": {},
   "outputs": [
    {
     "data": {
      "text/plain": [
       "array([[0.5],\n",
       "       [0.5]])"
      ]
     },
     "execution_count": 39,
     "metadata": {},
     "output_type": "execute_result"
    }
   ],
   "source": [
    "from cvxopt import matrix, solvers\n",
    "\n",
    "Q = matrix(np.diag([2.0, 2.0]))\n",
    "c = matrix(np.array([0.0, 0.0]))\n",
    "A = matrix(np.array([[1.0, 1.0]]))\n",
    "b = matrix(np.array([1.0]))\n",
    "\n",
    "sol = solvers.qp(Q, c, A=A, b=b)\n",
    "np.array(sol['x'])"
   ]
  },
  {
   "cell_type": "code",
   "execution_count": null,
   "metadata": {},
   "outputs": [],
   "source": []
  }
 ],
 "metadata": {
  "kernelspec": {
   "display_name": "Python 3",
   "language": "python",
   "name": "python3"
  },
  "language_info": {
   "codemirror_mode": {
    "name": "ipython",
    "version": 3
   },
   "file_extension": ".py",
   "mimetype": "text/x-python",
   "name": "python",
   "nbconvert_exporter": "python",
   "pygments_lexer": "ipython3",
   "version": "3.7.6"
  }
 },
 "nbformat": 4,
 "nbformat_minor": 4
}
