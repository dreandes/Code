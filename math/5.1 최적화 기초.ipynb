{
 "cells": [
  {
   "cell_type": "code",
   "execution_count": 16,
   "metadata": {},
   "outputs": [
    {
     "name": "stdout",
     "output_type": "stream",
     "text": [
      "      fun: 1.8932893809017893e-11\n",
      " hess_inv: array([[0.51675994, 1.03186494],\n",
      "       [1.03186494, 2.0655726 ]])\n",
      "      jac: array([ 5.27380711e-06, -2.50575298e-06])\n",
      "  message: 'Optimization terminated successfully.'\n",
      "     nfev: 140\n",
      "      nit: 30\n",
      "     njev: 35\n",
      "   status: 0\n",
      "  success: True\n",
      "        x: array([0.99999565, 0.99999129])\n"
     ]
    }
   ],
   "source": [
    "# 연습 문제 5.1.1\n",
    "# 1. 최적해에 수렴할 수 있도록 초기점을 변경하여 본다.\n",
    "def f2(x):\n",
    "    return (1 - x[0])**2 + 100.0 * (x[1] - x[0]**2)**2\n",
    "\n",
    "x0 = (2, 2)\n",
    "result = sp.optimize.minimize(f2, x0, jac=None)\n",
    "print(result)"
   ]
  },
  {
   "cell_type": "code",
   "execution_count": 20,
   "metadata": {},
   "outputs": [
    {
     "name": "stdout",
     "output_type": "stream",
     "text": [
      "      fun: 3.271435694683175e-14\n",
      " hess_inv: array([[0.51671918, 1.03179112],\n",
      "       [1.03179112, 2.06544014]])\n",
      "      jac: array([ 5.26067299e-06, -2.49959029e-06])\n",
      "  message: 'Optimization terminated successfully.'\n",
      "     nfev: 35\n",
      "      nit: 30\n",
      "     njev: 35\n",
      "   status: 0\n",
      "  success: True\n",
      "        x: array([1.00000013, 1.00000025])\n"
     ]
    }
   ],
   "source": [
    "def f2p(x):\n",
    "    return np.array((400*x[0]**3 + 2*x[0] - 400*x[0]*x[1] - 2, \n",
    "                    200*x[1] - 200 * x[0]**2))\n",
    "\n",
    "result = sp.optimize.minimize(f2, x0, jac=f2p)\n",
    "print(result)"
   ]
  },
  {
   "cell_type": "code",
   "execution_count": null,
   "metadata": {},
   "outputs": [],
   "source": []
  },
  {
   "cell_type": "code",
   "execution_count": 3,
   "metadata": {},
   "outputs": [
    {
     "name": "stdout",
     "output_type": "stream",
     "text": [
      "      fun: 2.0\n",
      " hess_inv: array([[0.5]])\n",
      "      jac: array([0.])\n",
      "  message: 'Optimization terminated successfully.'\n",
      "     nfev: 9\n",
      "      nit: 2\n",
      "     njev: 3\n",
      "   status: 0\n",
      "  success: True\n",
      "        x: array([1.99999999])\n"
     ]
    }
   ],
   "source": [
    "# 목적함수 재정의\n",
    "def f1(x):\n",
    "    return (x-2) ** 2 + 2\n",
    "\n",
    "x0 = 0 # 초기값\n",
    "result = sp.optimize.minimize(f1, x0)\n",
    "print(result)"
   ]
  },
  {
   "cell_type": "code",
   "execution_count": 4,
   "metadata": {},
   "outputs": [
    {
     "name": "stdout",
     "output_type": "stream",
     "text": [
      "      fun: 2.0\n",
      " hess_inv: array([[0.5]])\n",
      "      jac: array([0.])\n",
      "  message: 'Optimization terminated successfully.'\n",
      "     nfev: 3\n",
      "      nit: 2\n",
      "     njev: 3\n",
      "   status: 0\n",
      "  success: True\n",
      "        x: array([2.])\n"
     ]
    }
   ],
   "source": [
    "# 위 nfev가 직접 gradient를 구하기 위해 x의 앞점, 뒤점을 구한 후 gradient를 구함.\n",
    "# 이는 시간이 오래걸리기 때문에 걸리는 시간을 줄이기 위해서, jac를 넣어준다.\n",
    "# jac는 f를 differentiate한 함수인 f1p를 새로 선언해주어 사용하면 된다.\n",
    "\n",
    "def f1p(x):\n",
    "    return 2 * (x-2)\n",
    "\n",
    "result = sp.optimize.minimize(f1, x0, jac=f1p)\n",
    "print(result)"
   ]
  },
  {
   "cell_type": "code",
   "execution_count": 15,
   "metadata": {},
   "outputs": [
    {
     "name": "stdout",
     "output_type": "stream",
     "text": [
      "      fun: 5.2112890141803265e-12\n",
      " hess_inv: array([[0.49938636, 0.99860874],\n",
      "       [0.99860874, 2.00187364]])\n",
      "      jac: array([ 7.32138760e-05, -3.35902622e-05])\n",
      "  message: 'Desired error not necessarily achieved due to precision loss.'\n",
      "     nfev: 536\n",
      "      nit: 55\n",
      "     njev: 131\n",
      "   status: 2\n",
      "  success: False\n",
      "        x: array([0.99999854, 0.9999969 ])\n"
     ]
    }
   ],
   "source": [
    "# 2차원 목점함수 재정의 (벡터 입력을 받도록 : x_1 = x[0], x_2 = x[1])\n",
    "def f2(x):\n",
    "    return (1 - x[0])**2 + 100 * (x[1] - x[0] ** 2) ** 2\n",
    "\n",
    "x0 = -2, -2 # 초기값 임의 설정\n",
    "\n",
    "result = sp.optimize.minimize(f2, x0)\n",
    "print(result)"
   ]
  },
  {
   "cell_type": "code",
   "execution_count": null,
   "metadata": {},
   "outputs": [],
   "source": [
    "# x를 보면 답인 [1, 1]과 비슷하다.\n",
    "# jac의 값을 보아도 거의 [0, 0]이다. 답과 근접하다는 뜻이다.\n",
    "# 하지만 False라고 나온 이유는 이 함수는 무한으로 작동하지 않는다\n",
    "# 어느 정도 하다가 아니다 싶으면 실패라 하고 종료한다.\n",
    "# 위 함수 같은 경우는 이 전에 말한 진동현상(oscillation)이 존재한다.\n",
    "# 그래서 값을 거의 다 구했음에도 불구하고 false로 반환 후 종료한 것이다."
   ]
  },
  {
   "cell_type": "code",
   "execution_count": 7,
   "metadata": {},
   "outputs": [],
   "source": [
    "import sympy"
   ]
  },
  {
   "cell_type": "code",
   "execution_count": 9,
   "metadata": {},
   "outputs": [],
   "source": [
    "x1, x2 = sympy.symbols('x1 x2')"
   ]
  },
  {
   "cell_type": "code",
   "execution_count": 11,
   "metadata": {},
   "outputs": [
    {
     "data": {
      "text/latex": [
       "$\\displaystyle \\left(1 - x_{1}\\right)^{2} + 100 \\left(- x_{1}^{2} + x_{2}\\right)^{2}$"
      ],
      "text/plain": [
       "(1 - x1)**2 + 100*(-x1**2 + x2)**2"
      ]
     },
     "execution_count": 11,
     "metadata": {},
     "output_type": "execute_result"
    }
   ],
   "source": [
    "f2 = (1 - x1)**2 + 100 * (x2 - x1 ** 2) ** 2\n",
    "f2"
   ]
  },
  {
   "cell_type": "code",
   "execution_count": null,
   "metadata": {},
   "outputs": [],
   "source": [
    "np.diff()"
   ]
  },
  {
   "cell_type": "code",
   "execution_count": 18,
   "metadata": {},
   "outputs": [
    {
     "name": "stdout",
     "output_type": "stream",
     "text": [
      "      fun: 1.1558681095145402e-16\n",
      " hess_inv: array([[0.49933673, 0.9987295 ],\n",
      "       [0.9987295 , 2.00252737]])\n",
      "      jac: array([ 4.30579052e-07, -2.14795293e-07])\n",
      "  message: 'Optimization terminated successfully.'\n",
      "     nfev: 73\n",
      "      nit: 56\n",
      "     njev: 73\n",
      "   status: 0\n",
      "  success: True\n",
      "        x: array([1., 1.])\n"
     ]
    }
   ],
   "source": [
    "# 최적화 실패\n",
    "# f2p를 선언하여 jac에 넣어주겠음\n",
    "# f2 같은 경우 x_1과 x_2가 공존함\n",
    "# f2p를 구할 때 x_1으로 diff 한번, 그리고 x_2로 diff 한번해서 두번 해줘야함\n",
    "def f2g(x):\n",
    "    return np.array( ((-2 * (1 - x[0]) - 400 * x[0] * (x[1] - x[0] ** 2)), (200 * (x[1] - x[0] ** 2))) )\n",
    "# array 넣을 때 하나로 묶어서 넣어줘야함\n",
    "# array로 넣어주는 이유는 \n",
    "# d(f(x)) = [[df/dx] \n",
    "#            [df/dy]]\n",
    "# 이렇게 각각 gradient vector가 나오기 떄문.\n",
    "# 입력이 두개의 벡터이고 x와 y에 대한 입력값이 없기 때문에\n",
    "# 식으로 된 gradient 값이 두개가 나오고\n",
    "# 그렇기에 위와 같이 array로 넣어줘야함\n",
    "result = sp.optimize.minimize(f2, x0, jac=f2g)\n",
    "\n",
    "print(result)"
   ]
  },
  {
   "cell_type": "code",
   "execution_count": null,
   "metadata": {},
   "outputs": [],
   "source": []
  }
 ],
 "metadata": {
  "kernelspec": {
   "display_name": "Python 3",
   "language": "python",
   "name": "python3"
  },
  "language_info": {
   "codemirror_mode": {
    "name": "ipython",
    "version": 3
   },
   "file_extension": ".py",
   "mimetype": "text/x-python",
   "name": "python",
   "nbconvert_exporter": "python",
   "pygments_lexer": "ipython3",
   "version": "3.7.6"
  }
 },
 "nbformat": 4,
 "nbformat_minor": 4
}
