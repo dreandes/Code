{
 "cells": [
  {
   "cell_type": "code",
   "execution_count": 16,
   "metadata": {},
   "outputs": [
    {
     "name": "stdout",
     "output_type": "stream",
     "text": [
      "      fun: 1.8932893809017893e-11\n",
      " hess_inv: array([[0.51675994, 1.03186494],\n",
      "       [1.03186494, 2.0655726 ]])\n",
      "      jac: array([ 5.27380711e-06, -2.50575298e-06])\n",
      "  message: 'Optimization terminated successfully.'\n",
      "     nfev: 140\n",
      "      nit: 30\n",
      "     njev: 35\n",
      "   status: 0\n",
      "  success: True\n",
      "        x: array([0.99999565, 0.99999129])\n"
     ]
    }
   ],
   "source": [
    "# 연습 문제 5.1.1\n",
    "# 1. 최적해에 수렴할 수 있도록 초기점을 변경하여 본다.\n",
    "def f2(x):\n",
    "    return (1 - x[0])**2 + 100.0 * (x[1] - x[0]**2)**2\n",
    "\n",
    "x0 = (2, 2)\n",
    "result = sp.optimize.minimize(f2, x0, jac=None)\n",
    "print(result)"
   ]
  },
  {
   "cell_type": "code",
   "execution_count": 20,
   "metadata": {},
   "outputs": [
    {
     "name": "stdout",
     "output_type": "stream",
     "text": [
      "      fun: 3.271435694683175e-14\n",
      " hess_inv: array([[0.51671918, 1.03179112],\n",
      "       [1.03179112, 2.06544014]])\n",
      "      jac: array([ 5.26067299e-06, -2.49959029e-06])\n",
      "  message: 'Optimization terminated successfully.'\n",
      "     nfev: 35\n",
      "      nit: 30\n",
      "     njev: 35\n",
      "   status: 0\n",
      "  success: True\n",
      "        x: array([1.00000013, 1.00000025])\n"
     ]
    }
   ],
   "source": [
    "def f2p(x):\n",
    "    return np.array((400*x[0]**3 + 2*x[0] - 400*x[0]*x[1] - 2, \n",
    "                    200*x[1] - 200 * x[0]**2))\n",
    "\n",
    "result = sp.optimize.minimize(f2, x0, jac=f2p)\n",
    "print(result)"
   ]
  },
  {
   "cell_type": "code",
   "execution_count": null,
   "metadata": {},
   "outputs": [],
   "source": []
  }
 ],
 "metadata": {
  "kernelspec": {
   "display_name": "Python 3",
   "language": "python",
   "name": "python3"
  },
  "language_info": {
   "codemirror_mode": {
    "name": "ipython",
    "version": 3
   },
   "file_extension": ".py",
   "mimetype": "text/x-python",
   "name": "python",
   "nbconvert_exporter": "python",
   "pygments_lexer": "ipython3",
   "version": "3.7.6"
  }
 },
 "nbformat": 4,
 "nbformat_minor": 4
}
