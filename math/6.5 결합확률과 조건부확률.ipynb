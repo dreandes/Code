{
 "cells": [
  {
   "cell_type": "code",
   "execution_count": 1,
   "metadata": {},
   "outputs": [],
   "source": [
    "from pgmpy.factors.discrete import JointProbabilityDistribution as JPD"
   ]
  },
  {
   "cell_type": "code",
   "execution_count": 4,
   "metadata": {},
   "outputs": [],
   "source": [
    "# JointProbabilitDistribution(variable, cardinality, values)\n",
    "px = JPD(['X'], [2], np.array([12, 8]) / 20)"
   ]
  },
  {
   "cell_type": "code",
   "execution_count": 5,
   "metadata": {},
   "outputs": [
    {
     "name": "stdout",
     "output_type": "stream",
     "text": [
      "+------+--------+\n",
      "| X    |   P(X) |\n",
      "+======+========+\n",
      "| X(0) | 0.6000 |\n",
      "+------+--------+\n",
      "| X(1) | 0.4000 |\n",
      "+------+--------+\n"
     ]
    }
   ],
   "source": [
    "print(px)"
   ]
  },
  {
   "cell_type": "code",
   "execution_count": 8,
   "metadata": {},
   "outputs": [],
   "source": [
    "px = JPD(['X'], [2], [0.6, 0.4])"
   ]
  },
  {
   "cell_type": "code",
   "execution_count": 9,
   "metadata": {},
   "outputs": [
    {
     "name": "stdout",
     "output_type": "stream",
     "text": [
      "+------+--------+\n",
      "| X    |   P(X) |\n",
      "+======+========+\n",
      "| X(0) | 0.6000 |\n",
      "+------+--------+\n",
      "| X(1) | 0.4000 |\n",
      "+------+--------+\n"
     ]
    }
   ],
   "source": [
    "print(px)"
   ]
  },
  {
   "cell_type": "code",
   "execution_count": 10,
   "metadata": {},
   "outputs": [],
   "source": [
    "py = JPD(['Y'], [2], [0.5, 0.5])"
   ]
  },
  {
   "cell_type": "code",
   "execution_count": 11,
   "metadata": {},
   "outputs": [
    {
     "name": "stdout",
     "output_type": "stream",
     "text": [
      "+------+--------+\n",
      "| Y    |   P(Y) |\n",
      "+======+========+\n",
      "| Y(0) | 0.5000 |\n",
      "+------+--------+\n",
      "| Y(1) | 0.5000 |\n",
      "+------+--------+\n"
     ]
    }
   ],
   "source": [
    "print(py)"
   ]
  },
  {
   "cell_type": "code",
   "execution_count": 12,
   "metadata": {},
   "outputs": [],
   "source": [
    "pxy = JPD(['X', 'Y'], [2, 2], np.array([3, 9, 7, 1]) / 20 )"
   ]
  },
  {
   "cell_type": "code",
   "execution_count": 13,
   "metadata": {},
   "outputs": [
    {
     "name": "stdout",
     "output_type": "stream",
     "text": [
      "+------+------+----------+\n",
      "| X    | Y    |   P(X,Y) |\n",
      "+======+======+==========+\n",
      "| X(0) | Y(0) |   0.1500 |\n",
      "+------+------+----------+\n",
      "| X(0) | Y(1) |   0.4500 |\n",
      "+------+------+----------+\n",
      "| X(1) | Y(0) |   0.3500 |\n",
      "+------+------+----------+\n",
      "| X(1) | Y(1) |   0.0500 |\n",
      "+------+------+----------+\n"
     ]
    }
   ],
   "source": [
    "print(pxy)"
   ]
  },
  {
   "cell_type": "code",
   "execution_count": 14,
   "metadata": {},
   "outputs": [],
   "source": [
    "pxy = JPD(['X', 'Y'], [2, 2], [0.15, 0.45, 0.35, 0.05])"
   ]
  },
  {
   "cell_type": "code",
   "execution_count": 17,
   "metadata": {},
   "outputs": [
    {
     "name": "stdout",
     "output_type": "stream",
     "text": [
      "+------+------+----------+\n",
      "| X    | Y    |   P(X,Y) |\n",
      "+======+======+==========+\n",
      "| X(0) | Y(0) |   0.1500 |\n",
      "+------+------+----------+\n",
      "| X(0) | Y(1) |   0.4500 |\n",
      "+------+------+----------+\n",
      "| X(1) | Y(0) |   0.3500 |\n",
      "+------+------+----------+\n",
      "| X(1) | Y(1) |   0.0500 |\n",
      "+------+------+----------+\n"
     ]
    }
   ],
   "source": [
    "print(pxy)"
   ]
  },
  {
   "cell_type": "code",
   "execution_count": 18,
   "metadata": {},
   "outputs": [],
   "source": [
    "pxy2 = JPD(['X', 'Y'], [2, 2], np.array([6, 6, 4, 4]) / 20)"
   ]
  },
  {
   "cell_type": "code",
   "execution_count": 19,
   "metadata": {},
   "outputs": [
    {
     "name": "stdout",
     "output_type": "stream",
     "text": [
      "+------+------+----------+\n",
      "| X    | Y    |   P(X,Y) |\n",
      "+======+======+==========+\n",
      "| X(0) | Y(0) |   0.3000 |\n",
      "+------+------+----------+\n",
      "| X(0) | Y(1) |   0.3000 |\n",
      "+------+------+----------+\n",
      "| X(1) | Y(0) |   0.2000 |\n",
      "+------+------+----------+\n",
      "| X(1) | Y(1) |   0.2000 |\n",
      "+------+------+----------+\n"
     ]
    }
   ],
   "source": [
    "print(pxy2)"
   ]
  },
  {
   "cell_type": "code",
   "execution_count": 20,
   "metadata": {},
   "outputs": [],
   "source": [
    "pmx = pxy.marginal_distribution(['X'], inplace=False)"
   ]
  },
  {
   "cell_type": "code",
   "execution_count": 21,
   "metadata": {},
   "outputs": [
    {
     "name": "stdout",
     "output_type": "stream",
     "text": [
      "+------+--------+\n",
      "| X    |   P(X) |\n",
      "+======+========+\n",
      "| X(0) | 0.6000 |\n",
      "+------+--------+\n",
      "| X(1) | 0.4000 |\n",
      "+------+--------+\n"
     ]
    }
   ],
   "source": [
    "print(pmx)"
   ]
  },
  {
   "cell_type": "code",
   "execution_count": 22,
   "metadata": {},
   "outputs": [
    {
     "name": "stdout",
     "output_type": "stream",
     "text": [
      "+------+--------+\n",
      "| X    |   P(X) |\n",
      "+======+========+\n",
      "| X(0) | 0.6000 |\n",
      "+------+--------+\n",
      "| X(1) | 0.4000 |\n",
      "+------+--------+\n"
     ]
    }
   ],
   "source": [
    "pmx = pxy.marginalize(['Y'], inplace=False)\n",
    "print(pmx)"
   ]
  },
  {
   "cell_type": "code",
   "execution_count": 23,
   "metadata": {},
   "outputs": [],
   "source": [
    "py_on_x0 = pxy.conditional_distribution([('X', 0)], inplace=False)"
   ]
  },
  {
   "cell_type": "code",
   "execution_count": 24,
   "metadata": {},
   "outputs": [
    {
     "name": "stdout",
     "output_type": "stream",
     "text": [
      "+------+--------+\n",
      "| Y    |   P(Y) |\n",
      "+======+========+\n",
      "| Y(0) | 0.2500 |\n",
      "+------+--------+\n",
      "| Y(1) | 0.7500 |\n",
      "+------+--------+\n"
     ]
    }
   ],
   "source": [
    "print(py_on_x0)"
   ]
  },
  {
   "cell_type": "code",
   "execution_count": 25,
   "metadata": {},
   "outputs": [
    {
     "data": {
      "text/plain": [
       "False"
      ]
     },
     "execution_count": 25,
     "metadata": {},
     "output_type": "execute_result"
    }
   ],
   "source": [
    "pxy.check_independence(['X'], ['Y'])"
   ]
  },
  {
   "cell_type": "code",
   "execution_count": 26,
   "metadata": {},
   "outputs": [
    {
     "name": "stdout",
     "output_type": "stream",
     "text": [
      "+------+------+----------+\n",
      "| X    | Y    |   P(X,Y) |\n",
      "+======+======+==========+\n",
      "| X(0) | Y(0) |   0.3000 |\n",
      "+------+------+----------+\n",
      "| X(0) | Y(1) |   0.3000 |\n",
      "+------+------+----------+\n",
      "| X(1) | Y(0) |   0.2000 |\n",
      "+------+------+----------+\n",
      "| X(1) | Y(1) |   0.2000 |\n",
      "+------+------+----------+\n",
      "+------+------+----------+\n",
      "| X    | Y    |   P(X,Y) |\n",
      "+======+======+==========+\n",
      "| X(0) | Y(0) |   0.1500 |\n",
      "+------+------+----------+\n",
      "| X(0) | Y(1) |   0.4500 |\n",
      "+------+------+----------+\n",
      "| X(1) | Y(0) |   0.3500 |\n",
      "+------+------+----------+\n",
      "| X(1) | Y(1) |   0.0500 |\n",
      "+------+------+----------+\n"
     ]
    }
   ],
   "source": [
    "print(px * py)\n",
    "print(pxy)"
   ]
  },
  {
   "cell_type": "code",
   "execution_count": 27,
   "metadata": {},
   "outputs": [
    {
     "data": {
      "text/plain": [
       "True"
      ]
     },
     "execution_count": 27,
     "metadata": {},
     "output_type": "execute_result"
    }
   ],
   "source": [
    "# 독립이기 때문에 marginal 값을 알면 곱해서 구할 수 있다.\n",
    "# 독립이 아니면, 직접 구해야함\n",
    "pxy2.check_independence(['X'], ['Y'])"
   ]
  },
  {
   "cell_type": "code",
   "execution_count": null,
   "metadata": {},
   "outputs": [],
   "source": []
  }
 ],
 "metadata": {
  "kernelspec": {
   "display_name": "Python 3",
   "language": "python",
   "name": "python3"
  },
  "language_info": {
   "codemirror_mode": {
    "name": "ipython",
    "version": 3
   },
   "file_extension": ".py",
   "mimetype": "text/x-python",
   "name": "python",
   "nbconvert_exporter": "python",
   "pygments_lexer": "ipython3",
   "version": "3.7.6"
  }
 },
 "nbformat": 4,
 "nbformat_minor": 4
}
