{
 "cells": [
  {
   "cell_type": "code",
   "execution_count": 2,
   "metadata": {},
   "outputs": [
    {
     "data": {
      "text/plain": [
       "{frozenset(): 0,\n",
       " frozenset({'HH'}): 0.25,\n",
       " frozenset({'HT'}): 0.25,\n",
       " frozenset({'TH'}): 0.25,\n",
       " frozenset({'TT'}): 0.25,\n",
       " frozenset({'HH', 'HT'}): 0.5,\n",
       " frozenset({'HH', 'TH'}): 0.5,\n",
       " frozenset({'HH', 'TT'}): 0.5,\n",
       " frozenset({'HT', 'TH'}): 0.5,\n",
       " frozenset({'HT', 'TT'}): 0.5,\n",
       " frozenset({'TH', 'TT'}): 0.5,\n",
       " frozenset({'HH', 'HT', 'TH'}): 0.75,\n",
       " frozenset({'HH', 'HT', 'TT'}): 0.75,\n",
       " frozenset({'HH', 'TH', 'TT'}): 0.75,\n",
       " frozenset({'HT', 'TH', 'TT'}): 0.75,\n",
       " frozenset({'HH', 'HT', 'TH', 'TT'}): 1}"
      ]
     },
     "execution_count": 2,
     "metadata": {},
     "output_type": "execute_result"
    }
   ],
   "source": [
    "A1 = frozenset([])\n",
    "A2 = frozenset([\"HH\"])\n",
    "A3 = frozenset([\"HT\"])\n",
    "A4 = frozenset([\"TH\"])\n",
    "A5 = frozenset([\"TT\"])\n",
    "A6 = frozenset([\"HH\", \"HT\"])\n",
    "A7 = frozenset([\"HH\", \"TH\"])\n",
    "A8 = frozenset([\"HH\", \"TT\"])\n",
    "A9 = frozenset([\"HT\", \"TH\"])\n",
    "A10 = frozenset([\"HT\", \"TT\"])\n",
    "A11 = frozenset([\"TH\", \"TT\"])\n",
    "A12 = frozenset([\"HH\", \"HT\", \"TH\"])\n",
    "A13 = frozenset([\"HH\", \"HT\", \"TT\"])\n",
    "A14 = frozenset([\"HH\", \"TH\", \"TT\"])\n",
    "A15 = frozenset([\"HT\", \"TH\", \"TT\"])\n",
    "A16 = frozenset([\"HH\", \"HT\", \"TH\", \"TT\"])\n",
    "\n",
    "A = set([A1, A2, A3, A4, A5, A6, A7, A8, A9, A10, A11, A12, A13, A14, A15, A16])\n",
    "P = {A1: 0, A2: 0.25, A3: 0.25, A4: 0.25, A5: 0.25, A6: 0.5, A7: 0.5, A8: 0.5, A9: 0.5, A10: 0.5, A11: 0.5, A12: 0.75, A13: 0.75, A14: 0.75, A15: 0.75, A16: 1}\n",
    "P"
   ]
  },
  {
   "cell_type": "code",
   "execution_count": null,
   "metadata": {},
   "outputs": [],
   "source": []
  }
 ],
 "metadata": {
  "kernelspec": {
   "display_name": "Python 3",
   "language": "python",
   "name": "python3"
  },
  "language_info": {
   "codemirror_mode": {
    "name": "ipython",
    "version": 3
   },
   "file_extension": ".py",
   "mimetype": "text/x-python",
   "name": "python",
   "nbconvert_exporter": "python",
   "pygments_lexer": "ipython3",
   "version": "3.7.6"
  }
 },
 "nbformat": 4,
 "nbformat_minor": 4
}
