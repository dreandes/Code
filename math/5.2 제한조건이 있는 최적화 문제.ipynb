{
 "cells": [
  {
   "cell_type": "code",
   "execution_count": 12,
   "metadata": {},
   "outputs": [
    {
     "name": "stdout",
     "output_type": "stream",
     "text": [
      "Optimization terminated successfully.    (Exit mode 0)\n",
      "            Current function value: 0.5000000000000002\n",
      "            Iterations: 2\n",
      "            Function evaluations: 8\n",
      "            Gradient evaluations: 2\n"
     ]
    },
    {
     "data": {
      "text/plain": [
       "array([0.5, 0.5])"
      ]
     },
     "execution_count": 12,
     "metadata": {},
     "output_type": "execute_result"
    }
   ],
   "source": [
    "# f(x_1, x_2) = x_1 ** 2 + x_2 ** 2\n",
    "# g(x_1, x_2) = x_1 + x_2 - 1 = 0\n",
    "\n",
    "def f1array(x): # 목적함수\n",
    "    return x[0] ** 2 + x[1] ** 2\n",
    "\n",
    "def eq_constraint(x): # 제한조건\n",
    "    return x[0] + x[1] - 1\n",
    "\n",
    "sp.optimize.fmin_slsqp(f1array, np.array([1, 1]), eqcons=[eq_constraint])\n",
    "\n",
    "# lambda 값은 못 구하는건지?"
   ]
  },
  {
   "cell_type": "code",
   "execution_count": 14,
   "metadata": {},
   "outputs": [
    {
     "name": "stdout",
     "output_type": "stream",
     "text": [
      "Optimization terminated successfully.    (Exit mode 0)\n",
      "            Current function value: 1.4142135623747087\n",
      "            Iterations: 5\n",
      "            Function evaluations: 20\n",
      "            Gradient evaluations: 5\n"
     ]
    },
    {
     "data": {
      "text/plain": [
       "array([0.70710678, 0.70710678])"
      ]
     },
     "execution_count": 14,
     "metadata": {},
     "output_type": "execute_result"
    }
   ],
   "source": [
    "# f(x_1, x_2) = x[0] + [1]\n",
    "# g(x_1, x_2) = x[0] ** 2 + x[1] ** 2 - 1\n",
    "\n",
    "def f2array(x): # 목적 함수\n",
    "    return x[0] + x[1]\n",
    "\n",
    "def eq_constraint2(x): # 제한 조건\n",
    "    return x[0] ** 2 + x[1] ** 2 - 1\n",
    "\n",
    "sp.optimize.fmin_slsqp(f2array, np.array([1, 1]), eqcons=[eq_constraint2])\n"
   ]
  },
  {
   "cell_type": "code",
   "execution_count": 20,
   "metadata": {},
   "outputs": [
    {
     "name": "stdout",
     "output_type": "stream",
     "text": [
      "Optimization terminated successfully.    (Exit mode 0)\n",
      "            Current function value: 3.605551280732028\n",
      "            Iterations: 11\n",
      "            Function evaluations: 77\n",
      "            Gradient evaluations: 11\n"
     ]
    },
    {
     "data": {
      "text/plain": [
       "array([9.99999981e-01, 1.89941792e-08])"
      ]
     },
     "execution_count": 20,
     "metadata": {},
     "output_type": "execute_result"
    }
   ],
   "source": [
    "# 왜 sqrt인지?\n",
    "def f2(x):\n",
    "    return np.sqrt((x[0] - 4) ** 2 + (x[1] - 2) ** 2)\n",
    "\n",
    "# 제한 조건 상수\n",
    "k = 1\n",
    "def ieq_constraint(x):\n",
    "    return np.atleast_1d(k - np.sum(np.abs(x)))\n",
    "\n",
    "sp.optimize.fmin_slsqp(f2, np.array([0, 0]), ieqcons=[ieq_constraint])"
   ]
  },
  {
   "cell_type": "code",
   "execution_count": null,
   "metadata": {},
   "outputs": [],
   "source": []
  }
 ],
 "metadata": {
  "kernelspec": {
   "display_name": "Python 3",
   "language": "python",
   "name": "python3"
  },
  "language_info": {
   "codemirror_mode": {
    "name": "ipython",
    "version": 3
   },
   "file_extension": ".py",
   "mimetype": "text/x-python",
   "name": "python",
   "nbconvert_exporter": "python",
   "pygments_lexer": "ipython3",
   "version": "3.7.6"
  }
 },
 "nbformat": 4,
 "nbformat_minor": 4
}
