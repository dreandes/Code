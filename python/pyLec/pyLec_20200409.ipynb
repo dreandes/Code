{
 "cells": [
  {
   "cell_type": "markdown",
   "metadata": {},
   "source": [
    "### Python\n",
    "- 변수 선언\n",
    "- 자료형\n",
    "- 연산자\n",
    "- 조건문\n",
    "- 반복문\n",
    "- 함수\n",
    "- 클래스\n",
    "- 모듈, 패키지"
   ]
  },
  {
   "cell_type": "code",
   "execution_count": 2,
   "metadata": {},
   "outputs": [],
   "source": [
    "# 변수 선언 : 식별자 규칙 : 언어마다 규칙이 다릅니다.\n",
    "# 변수, 함수 : snake_case\n",
    "# 클래스 : CamelCase"
   ]
  },
  {
   "cell_type": "code",
   "execution_count": 3,
   "metadata": {},
   "outputs": [],
   "source": [
    "# 자료형 : offset index masking 문법\n",
    "# [] = masking 문자"
   ]
  },
  {
   "cell_type": "code",
   "execution_count": null,
   "metadata": {},
   "outputs": [],
   "source": [
    "# 연산자 : 산술, 할당, 비교, 논리, 멤버\n",
    "# 데이터 타입에 따라서 연산이 다르게 수행됩니다."
   ]
  },
  {
   "cell_type": "code",
   "execution_count": 5,
   "metadata": {},
   "outputs": [
    {
     "data": {
      "text/plain": [
       "(3, '12')"
      ]
     },
     "execution_count": 5,
     "metadata": {},
     "output_type": "execute_result"
    }
   ],
   "source": [
    "#int라는 class로 만든 int 객체\n",
    "1 + 2, \"1\" + \"2\""
   ]
  },
  {
   "cell_type": "code",
   "execution_count": 6,
   "metadata": {},
   "outputs": [],
   "source": [
    "num1, num2 = 1, 2"
   ]
  },
  {
   "cell_type": "code",
   "execution_count": 7,
   "metadata": {},
   "outputs": [
    {
     "data": {
      "text/plain": [
       "(3, 3)"
      ]
     },
     "execution_count": 7,
     "metadata": {},
     "output_type": "execute_result"
    }
   ],
   "source": [
    "num1.__add__(num2), num1 + num2"
   ]
  },
  {
   "cell_type": "code",
   "execution_count": 8,
   "metadata": {},
   "outputs": [
    {
     "name": "stdout",
     "output_type": "stream",
     "text": [
      "python\n",
      "python\n",
      "python\n"
     ]
    }
   ],
   "source": [
    "for _ in range(3):\n",
    "    print(\"python\")"
   ]
  },
  {
   "cell_type": "code",
   "execution_count": 13,
   "metadata": {},
   "outputs": [],
   "source": [
    "def echo(data1, data2):\n",
    "    return data1, data2"
   ]
  },
  {
   "cell_type": "code",
   "execution_count": 14,
   "metadata": {},
   "outputs": [],
   "source": [
    "data1, _ = echo(1, 2)"
   ]
  },
  {
   "cell_type": "code",
   "execution_count": 15,
   "metadata": {},
   "outputs": [],
   "source": [
    "# 조건문 : if, elif, else"
   ]
  },
  {
   "cell_type": "code",
   "execution_count": 16,
   "metadata": {},
   "outputs": [
    {
     "name": "stdout",
     "output_type": "stream",
     "text": [
      "data1 is zero 1\n",
      "data1 is zero 2\n"
     ]
    }
   ],
   "source": [
    "data1, data2 = 0, 1\n",
    "if data1 == 0:\n",
    "    print(\"data1 is zero 1\")\n",
    "\n",
    "if not data1: # 조건이 bool 데이터 타입이 아니면 강제로 형변환 한다.\n",
    "    print(\"data1 is zero 2\")"
   ]
  },
  {
   "cell_type": "code",
   "execution_count": 18,
   "metadata": {},
   "outputs": [
    {
     "name": "stdout",
     "output_type": "stream",
     "text": [
      "data2 is not zero 1\n",
      "data1 is not zero 2\n"
     ]
    }
   ],
   "source": [
    "data1, data2 = 0, 1\n",
    "if data2 == 1:\n",
    "    print(\"data2 is not zero 1\")\n",
    "\n",
    "if data2: # 조건이 bool 데이터 타입이 아니면 강제로 형변환 한다.\n",
    "    print(\"data1 is not zero 2\")"
   ]
  },
  {
   "cell_type": "code",
   "execution_count": 19,
   "metadata": {},
   "outputs": [],
   "source": [
    "# 반복문 : 반복적으로 코드를 실행하기 위한 문법\n",
    "# 구구단 출력하는 코드 : 이중 for문\n",
    "# while, for, break, continue"
   ]
  },
  {
   "cell_type": "code",
   "execution_count": 20,
   "metadata": {},
   "outputs": [
    {
     "name": "stdout",
     "output_type": "stream",
     "text": [
      "2 * 1 = 2\t3 * 1 = 3\t4 * 1 = 4\t5 * 1 = 5\t6 * 1 = 6\t7 * 1 = 7\t8 * 1 = 8\t9 * 1 = 9\t\n",
      "2 * 2 = 4\t3 * 2 = 6\t4 * 2 = 8\t5 * 2 = 10\t6 * 2 = 12\t7 * 2 = 14\t8 * 2 = 16\t9 * 2 = 18\t\n",
      "2 * 3 = 6\t3 * 3 = 9\t4 * 3 = 12\t5 * 3 = 15\t6 * 3 = 18\t7 * 3 = 21\t8 * 3 = 24\t9 * 3 = 27\t\n",
      "2 * 4 = 8\t3 * 4 = 12\t4 * 4 = 16\t5 * 4 = 20\t6 * 4 = 24\t7 * 4 = 28\t8 * 4 = 32\t9 * 4 = 36\t\n",
      "2 * 5 = 10\t3 * 5 = 15\t4 * 5 = 20\t5 * 5 = 25\t6 * 5 = 30\t7 * 5 = 35\t8 * 5 = 40\t9 * 5 = 45\t\n",
      "2 * 6 = 12\t3 * 6 = 18\t4 * 6 = 24\t5 * 6 = 30\t6 * 6 = 36\t7 * 6 = 42\t8 * 6 = 48\t9 * 6 = 54\t\n",
      "2 * 7 = 14\t3 * 7 = 21\t4 * 7 = 28\t5 * 7 = 35\t6 * 7 = 42\t7 * 7 = 49\t8 * 7 = 56\t9 * 7 = 63\t\n",
      "2 * 8 = 16\t3 * 8 = 24\t4 * 8 = 32\t5 * 8 = 40\t6 * 8 = 48\t7 * 8 = 56\t8 * 8 = 64\t9 * 8 = 72\t\n",
      "2 * 9 = 18\t3 * 9 = 27\t4 * 9 = 36\t5 * 9 = 45\t6 * 9 = 54\t7 * 9 = 63\t8 * 9 = 72\t9 * 9 = 81\t\n"
     ]
    }
   ],
   "source": [
    "for num2 in range(1, 10):\n",
    "    for num1 in range(2, 10):\n",
    "        print(\"{} * {} = {}\".format(num1, num2, num1*num2), end='\\t')\n",
    "    print()"
   ]
  },
  {
   "cell_type": "code",
   "execution_count": 21,
   "metadata": {},
   "outputs": [],
   "source": [
    "# list comprehention (굉장히 많이 사용)"
   ]
  },
  {
   "cell_type": "code",
   "execution_count": null,
   "metadata": {},
   "outputs": [],
   "source": [
    "# function : def : 반복되는 코드를 묶어서 사용하는 방법\n",
    "# *args, **kwargs : 아규먼트와 키워드 아규먼트의 갯수와 상관 없이 함수를 실행하고 싶을 때 사용"
   ]
  },
  {
   "cell_type": "code",
   "execution_count": 22,
   "metadata": {},
   "outputs": [],
   "source": [
    "def plus(num1, num2 = 10, num3 = 100):\n",
    "    print(num1, num2, num3)\n",
    "    return num1 + num2 + num3"
   ]
  },
  {
   "cell_type": "code",
   "execution_count": 23,
   "metadata": {},
   "outputs": [
    {
     "ename": "TypeError",
     "evalue": "plus() takes from 1 to 3 positional arguments but 4 were given",
     "output_type": "error",
     "traceback": [
      "\u001b[1;31m---------------------------------------------------------------------------\u001b[0m",
      "\u001b[1;31mTypeError\u001b[0m                                 Traceback (most recent call last)",
      "\u001b[1;32m<ipython-input-23-0e203d0ddebc>\u001b[0m in \u001b[0;36m<module>\u001b[1;34m\u001b[0m\n\u001b[1;32m----> 1\u001b[1;33m \u001b[0mplus\u001b[0m\u001b[1;33m(\u001b[0m\u001b[1;36m1\u001b[0m\u001b[1;33m,\u001b[0m\u001b[1;36m2\u001b[0m\u001b[1;33m,\u001b[0m\u001b[1;36m3\u001b[0m\u001b[1;33m,\u001b[0m\u001b[1;36m4\u001b[0m\u001b[1;33m)\u001b[0m\u001b[1;33m\u001b[0m\u001b[1;33m\u001b[0m\u001b[0m\n\u001b[0m",
      "\u001b[1;31mTypeError\u001b[0m: plus() takes from 1 to 3 positional arguments but 4 were given"
     ]
    }
   ],
   "source": [
    "plus(1,2,3,4)"
   ]
  },
  {
   "cell_type": "code",
   "execution_count": 27,
   "metadata": {},
   "outputs": [],
   "source": [
    "def plus(num0, *args, **kwargs):\n",
    "    print(num0, args, kwargs)\n",
    "    return sum(args) + sum(kwargs.values())"
   ]
  },
  {
   "cell_type": "code",
   "execution_count": 28,
   "metadata": {},
   "outputs": [
    {
     "name": "stdout",
     "output_type": "stream",
     "text": [
      "1 (2, 3) {'num1': 4, 'num2': 5}\n"
     ]
    },
    {
     "data": {
      "text/plain": [
       "14"
      ]
     },
     "execution_count": 28,
     "metadata": {},
     "output_type": "execute_result"
    }
   ],
   "source": [
    "plus(1, 2, 3, num1 = 4, num2 = 5)"
   ]
  },
  {
   "cell_type": "code",
   "execution_count": 30,
   "metadata": {},
   "outputs": [
    {
     "name": "stdout",
     "output_type": "stream",
     "text": [
      "([1, 2, 3],) {}\n",
      "(1, 2, 3) {}\n",
      "(1, 2, 3) {}\n"
     ]
    }
   ],
   "source": [
    "def plus(*args, **kwargs):\n",
    "    print(args, kwargs)\n",
    "#     return sum(args) + sum(kwargs.values())\n",
    "\n",
    "ls = [1, 2, 3]\n",
    "\n",
    "plus(ls) # plus([1, 2, 3]) : 아규먼트 1개, 데이터 타입 list\n",
    "plus(ls[0], ls[1], ls[2]) # plus(1, 2, 3) : 아규먼트 3개, 데이터 타입 정수\n",
    "plus(*ls) # plus(1, 2, 3) : 아규먼트 3개, 데이터 타입 정수"
   ]
  },
  {
   "cell_type": "code",
   "execution_count": 32,
   "metadata": {},
   "outputs": [
    {
     "name": "stdout",
     "output_type": "stream",
     "text": [
      "({'data1': 1, 'data2': 2},) {}\n",
      "() {'data1': 1, 'data2': 2}\n",
      "() {'data1': 1, 'data2': 2}\n"
     ]
    }
   ],
   "source": [
    "dic = {\"data1\" : 1, \"data2\" : 2}\n",
    "\n",
    "plus(dic) #plus({\"data\" : 1, \"data2\" : 2}) : 아규먼트 1개, 데이터타입 = dict\n",
    "plus(data1 = dic[\"data1\"], data2 = dic[\"data2\"])\n",
    "plus(**dic) #plus(data1 = 1, data2 = 2) : 아규먼트 2개, 데이터타입 = 정수"
   ]
  },
  {
   "cell_type": "code",
   "execution_count": 33,
   "metadata": {},
   "outputs": [],
   "source": [
    "# return"
   ]
  },
  {
   "cell_type": "code",
   "execution_count": 34,
   "metadata": {},
   "outputs": [],
   "source": [
    "data = \"python\""
   ]
  },
  {
   "cell_type": "code",
   "execution_count": 36,
   "metadata": {},
   "outputs": [
    {
     "data": {
      "text/plain": [
       "'PYTHON'"
      ]
     },
     "execution_count": 36,
     "metadata": {},
     "output_type": "execute_result"
    }
   ],
   "source": [
    "result = data.upper()\n",
    "result"
   ]
  },
  {
   "cell_type": "code",
   "execution_count": 37,
   "metadata": {},
   "outputs": [],
   "source": [
    "datas = [3, 1, 2]"
   ]
  },
  {
   "cell_type": "code",
   "execution_count": 39,
   "metadata": {},
   "outputs": [
    {
     "name": "stdout",
     "output_type": "stream",
     "text": [
      "None\n"
     ]
    }
   ],
   "source": [
    "result = datas.sort()\n",
    "print(result)"
   ]
  },
  {
   "cell_type": "code",
   "execution_count": null,
   "metadata": {},
   "outputs": [],
   "source": [
    "# 피보나치수열 - 피보나치킨 1000명까지 계산할 수 있는 코드 작성 (http://fibonachicken.herokuapp.com/?people=22.0)"
   ]
  },
  {
   "cell_type": "code",
   "execution_count": null,
   "metadata": {},
   "outputs": [],
   "source": [
    "#inner function"
   ]
  },
  {
   "cell_type": "code",
   "execution_count": 42,
   "metadata": {},
   "outputs": [
    {
     "data": {
      "text/plain": [
       "7"
      ]
     },
     "execution_count": 42,
     "metadata": {},
     "output_type": "execute_result"
    }
   ],
   "source": [
    "def outer(a, b):\n",
    "    \n",
    "    def inner(c, d):\n",
    "        return c + d\n",
    "    \n",
    "    return inner # 함수를 리턴\n",
    "\n",
    "\n",
    "outer(1, 2)(3, 4) # outer(1, 2) == inner()"
   ]
  },
  {
   "cell_type": "code",
   "execution_count": 43,
   "metadata": {},
   "outputs": [
    {
     "data": {
      "text/plain": [
       "3"
      ]
     },
     "execution_count": 43,
     "metadata": {},
     "output_type": "execute_result"
    }
   ],
   "source": [
    "def outer(a, b): # 1. a = 1, b = 2\n",
    "    \n",
    "    def inner(c, d): # 2. inner 함수 선언 # 4. inner(1, 2) 호출\n",
    "        return c + d # 5. 1 + 2 리턴\n",
    "    \n",
    "    return inner(a, b) # 함수의 결과값 리턴 # 3. inner(1, 2) # 6. 결과 3 리턴\n",
    "\n",
    "\n",
    "outer(1, 2)    "
   ]
  },
  {
   "cell_type": "markdown",
   "metadata": {},
   "source": [
    "#### 데코레이터\n",
    "- `함수의 코드를 바꾸지 않고` 기능을 추가하고 싶을 때 사용\n",
    "\n",
    "```\n",
    "def data1():\n",
    "    code_1\n",
    "    code_2\n",
    "    code_3\n",
    "    \n",
    "def data2():\n",
    "    code_1\n",
    "    code_4\n",
    "    code_3\n",
    "```\n",
    "\n",
    "- 데코레이터를 사용해서 code_1과 code_3을 묶어줌\n",
    "\n",
    "```\n",
    "def data3(func):\n",
    "    def wrapper(*args, **kwargs): # <-- 이게 inner function\n",
    "        code_1\n",
    "        func(*args, **kwargs)\n",
    "        code_3\n",
    "    return wrapper\n",
    "```\n",
    "\n",
    "```\n",
    "@data3\n",
    "def data1():\n",
    "    code_2\n",
    "\n",
    "@data3\n",
    "def data2():\n",
    "    code_4\n",
    "```"
   ]
  },
  {
   "cell_type": "code",
   "execution_count": 52,
   "metadata": {},
   "outputs": [],
   "source": [
    "def data3(func):\n",
    "    def wrapper(*args, **kwargs):\n",
    "        print(\"code_1\")\n",
    "        func(*args, **kwargs)\n",
    "        print(\"code_3\")\n",
    "    return wrapper"
   ]
  },
  {
   "cell_type": "code",
   "execution_count": 55,
   "metadata": {},
   "outputs": [],
   "source": [
    "def data1():\n",
    "    print(\"code_2\")"
   ]
  },
  {
   "cell_type": "code",
   "execution_count": 56,
   "metadata": {},
   "outputs": [
    {
     "name": "stdout",
     "output_type": "stream",
     "text": [
      "code_1\n",
      "code_2\n",
      "code_3\n"
     ]
    }
   ],
   "source": [
    "data3(data1)()"
   ]
  },
  {
   "cell_type": "code",
   "execution_count": 57,
   "metadata": {},
   "outputs": [],
   "source": [
    "@data3\n",
    "def data1():\n",
    "    print(\"code_2\")"
   ]
  },
  {
   "cell_type": "code",
   "execution_count": 58,
   "metadata": {},
   "outputs": [
    {
     "name": "stdout",
     "output_type": "stream",
     "text": [
      "code_1\n",
      "code_2\n",
      "code_3\n"
     ]
    }
   ],
   "source": [
    "data1()"
   ]
  },
  {
   "cell_type": "code",
   "execution_count": 59,
   "metadata": {},
   "outputs": [],
   "source": [
    "import time"
   ]
  },
  {
   "cell_type": "code",
   "execution_count": 65,
   "metadata": {},
   "outputs": [],
   "source": [
    "def timer(func):\n",
    "    def wrapper(*args, **kwargs):\n",
    "        start_time = time.time()                                 #code_1\n",
    "        result = func(*args, **kwargs)                           #code_2, code_4\n",
    "        end_time = time.time()                                   #code_3\n",
    "        print(\"running time : {}\".format(end_time - start_time)) #code_3\n",
    "        return result\n",
    "    return wrapper"
   ]
  },
  {
   "cell_type": "code",
   "execution_count": 66,
   "metadata": {},
   "outputs": [],
   "source": [
    "@timer\n",
    "def test1(num1, num2):\n",
    "    data = range(num1, num2)\n",
    "    return sum(data)"
   ]
  },
  {
   "cell_type": "code",
   "execution_count": 67,
   "metadata": {},
   "outputs": [],
   "source": [
    "@timer\n",
    "def test2(num1, num2):\n",
    "    result = 0\n",
    "    for num in range(num1, num2):\n",
    "        result += num\n",
    "    return result"
   ]
  },
  {
   "cell_type": "code",
   "execution_count": 68,
   "metadata": {},
   "outputs": [
    {
     "name": "stdout",
     "output_type": "stream",
     "text": [
      "running time : 0.06679534912109375\n"
     ]
    },
    {
     "data": {
      "text/plain": [
       "499999500000"
      ]
     },
     "execution_count": 68,
     "metadata": {},
     "output_type": "execute_result"
    }
   ],
   "source": [
    "test1(1, 1000000)"
   ]
  },
  {
   "cell_type": "code",
   "execution_count": 69,
   "metadata": {},
   "outputs": [
    {
     "name": "stdout",
     "output_type": "stream",
     "text": [
      "running time : 0.11668515205383301\n"
     ]
    },
    {
     "data": {
      "text/plain": [
       "499999500000"
      ]
     },
     "execution_count": 69,
     "metadata": {},
     "output_type": "execute_result"
    }
   ],
   "source": [
    "test2(1, 1000000)"
   ]
  },
  {
   "cell_type": "code",
   "execution_count": 70,
   "metadata": {},
   "outputs": [],
   "source": [
    "def is_login(func):\n",
    "    \n",
    "    pw = \"1234\"\n",
    "    \n",
    "    def wrapper(*args, **kwargs):\n",
    "        \n",
    "        input_pw = input(\"insert password : \")\n",
    "        if input_pw == pw:\n",
    "            result = func(*args, **kwargs)\n",
    "            return result\n",
    "        return \"wrong password\"\n",
    "        \n",
    "    return wrapper\n"
   ]
  },
  {
   "cell_type": "code",
   "execution_count": 71,
   "metadata": {},
   "outputs": [],
   "source": [
    "import random\n",
    "\n",
    "def dice():\n",
    "    return random.randint(1, 6)"
   ]
  },
  {
   "cell_type": "code",
   "execution_count": 73,
   "metadata": {},
   "outputs": [
    {
     "data": {
      "text/plain": [
       "5"
      ]
     },
     "execution_count": 73,
     "metadata": {},
     "output_type": "execute_result"
    }
   ],
   "source": [
    "dice()"
   ]
  },
  {
   "cell_type": "code",
   "execution_count": 91,
   "metadata": {},
   "outputs": [],
   "source": [
    "# decorator 여러개 쓸 수 있음\n",
    "@timer\n",
    "@is_login\n",
    "def one_lotto():\n",
    "    return random.randint(1, 45)"
   ]
  },
  {
   "cell_type": "code",
   "execution_count": 90,
   "metadata": {},
   "outputs": [
    {
     "name": "stdin",
     "output_type": "stream",
     "text": [
      "insert password :  1234\n"
     ]
    },
    {
     "name": "stdout",
     "output_type": "stream",
     "text": [
      "running time : 0.0\n"
     ]
    },
    {
     "data": {
      "text/plain": [
       "21"
      ]
     },
     "execution_count": 90,
     "metadata": {},
     "output_type": "execute_result"
    }
   ],
   "source": [
    "one_lotto()"
   ]
  },
  {
   "cell_type": "markdown",
   "metadata": {},
   "source": [
    "#### class\n",
    "- 변수와 함수를 모아서 사용하는 문법\n",
    "- 객체지향을 구현하기 위해 만든 문법\n",
    "    - 객체지향 : 실제 세계를 반영해서 코드를 작성하는 방법\n",
    "    - 여러명이 개발할 때 효율적으로 코드를 작성할 수 있도록 하는 개념\n",
    "- 클래스 선언 -> 객체 생성 -> 객체의 함수 사용"
   ]
  },
  {
   "cell_type": "code",
   "execution_count": 94,
   "metadata": {},
   "outputs": [],
   "source": [
    "# 클래스의 구조\n",
    "class Data:\n",
    "    \n",
    "    num0 = 1\n",
    "    \n",
    "    def __init__(self, num1, num2): # 객체가 생성될때 실행이 되었으면 하는 코드 : 생성자\n",
    "        self.num1 = num1\n",
    "        self.num2 = num2\n",
    "        \n",
    "    def disp(self):\n",
    "        print(self.num1, self.num2)"
   ]
  },
  {
   "cell_type": "code",
   "execution_count": 95,
   "metadata": {},
   "outputs": [],
   "source": [
    "# getter setter : 객체의 변수에 접근할 떄 함수로 접근하도록하기 위한 문법입니다."
   ]
  },
  {
   "cell_type": "code",
   "execution_count": 146,
   "metadata": {},
   "outputs": [],
   "source": [
    "class Car:\n",
    "    \n",
    "    def __init__(self, init_speed=0):\n",
    "        self.speed = init_speed\n",
    "        self.__max_speed = 200\n",
    "        \n",
    "    def add_speed(self, speed):\n",
    "        self.speed += speed\n",
    "        if self.speed > self.__max_speed:\n",
    "            self.speed = 200\n",
    "    \n",
    "    def setter(self, max_speed):\n",
    "        print(\"setter\")\n",
    "        if max_speed > 200:\n",
    "            print(\"less than 200\")\n",
    "        else:\n",
    "            self.__max_speed = max_speed\n",
    "            \n",
    "    def getter(self):\n",
    "        print(\"getter\")\n",
    "        print(self.__max_speed, \"km/h\")\n",
    "    \n",
    "    def disp(self):\n",
    "        print(self.speed, self.__max_speed)    \n",
    "    \n",
    "    max_speed = property(getter, setter)\n",
    "    "
   ]
  },
  {
   "cell_type": "code",
   "execution_count": 147,
   "metadata": {},
   "outputs": [],
   "source": [
    "car1 = Car()"
   ]
  },
  {
   "cell_type": "code",
   "execution_count": 155,
   "metadata": {},
   "outputs": [
    {
     "name": "stdout",
     "output_type": "stream",
     "text": [
      "200 150\n"
     ]
    }
   ],
   "source": [
    "car1.disp()"
   ]
  },
  {
   "cell_type": "code",
   "execution_count": 153,
   "metadata": {},
   "outputs": [],
   "source": [
    "car1.add_speed(300)"
   ]
  },
  {
   "cell_type": "code",
   "execution_count": 154,
   "metadata": {},
   "outputs": [
    {
     "name": "stdout",
     "output_type": "stream",
     "text": [
      "setter\n"
     ]
    }
   ],
   "source": [
    "car1.max_speed = 150"
   ]
  },
  {
   "cell_type": "code",
   "execution_count": 156,
   "metadata": {},
   "outputs": [
    {
     "name": "stdout",
     "output_type": "stream",
     "text": [
      "getter\n",
      "150 km/h\n"
     ]
    }
   ],
   "source": [
    "car1.max_speed"
   ]
  },
  {
   "cell_type": "markdown",
   "metadata": {},
   "source": [
    "### 정규표현식 : regex\n",
    "- 문자열 데이터를 특정 패턴으로 처리하는 문법\n",
    "- 함수\n",
    "    - findall : 일치하는 패턴을 모두 찾기\n",
    "    - sub : 특정 패턴을 찾아서 문자열을 치환 (replace와 비슷)\n",
    "- 패턴 : "
   ]
  },
  {
   "cell_type": "code",
   "execution_count": 157,
   "metadata": {},
   "outputs": [],
   "source": [
    "import re"
   ]
  },
  {
   "cell_type": "code",
   "execution_count": 161,
   "metadata": {},
   "outputs": [
    {
     "data": {
      "text/plain": [
       "['fast', 'fast']"
      ]
     },
     "execution_count": 161,
     "metadata": {},
     "output_type": "execute_result"
    }
   ],
   "source": [
    "data = \"fast campus fast\"\n",
    "re.findall(\"fast\", data)"
   ]
  },
  {
   "cell_type": "code",
   "execution_count": 163,
   "metadata": {},
   "outputs": [
    {
     "data": {
      "text/plain": [
       "['fas', 'cam', 'pus', 'fas']"
      ]
     },
     "execution_count": 163,
     "metadata": {},
     "output_type": "execute_result"
    }
   ],
   "source": [
    "re.findall(\"[a-z]{3}\", data) # 문자열 3개 찾기"
   ]
  },
  {
   "cell_type": "code",
   "execution_count": 165,
   "metadata": {},
   "outputs": [
    {
     "data": {
      "text/plain": [
       "'slowt slowpus slowt'"
      ]
     },
     "execution_count": 165,
     "metadata": {},
     "output_type": "execute_result"
    }
   ],
   "source": [
    "re.sub(\"[a-t]{3}\", \"slow\", data)"
   ]
  },
  {
   "cell_type": "code",
   "execution_count": 166,
   "metadata": {},
   "outputs": [
    {
     "data": {
      "text/plain": [
       "['ast', 'amp', 'ast']"
      ]
     },
     "execution_count": 166,
     "metadata": {},
     "output_type": "execute_result"
    }
   ],
   "source": [
    "re.findall(\"a.{2}\", data) # 문자 하나 2회 반복"
   ]
  },
  {
   "cell_type": "code",
   "execution_count": 167,
   "metadata": {},
   "outputs": [
    {
     "data": {
      "text/plain": [
       "['ast', 'amp', 'ast']"
      ]
     },
     "execution_count": 167,
     "metadata": {},
     "output_type": "execute_result"
    }
   ],
   "source": [
    "re.findall(\"[a].{2}\", data) # a 2회 반복"
   ]
  },
  {
   "cell_type": "markdown",
   "metadata": {},
   "source": [
    "### 패턴\n",
    "- 문자 : `[]`\n",
    "- 범위 : `-`\n",
    "- 문자 하나 : `.`\n",
    "- 0회 1회 반복 : ?\n",
    "- 0회 이상 반복 : *\n",
    "- 1회 이상 반복 : +\n",
    "- m회 반복 : `{m}`\n",
    "- m~n회 반복 : `{m,n}`\n",
    "- 그룹핑 : ()"
   ]
  },
  {
   "cell_type": "code",
   "execution_count": 170,
   "metadata": {},
   "outputs": [
    {
     "data": {
      "text/plain": [
       "['aabc']"
      ]
     },
     "execution_count": 170,
     "metadata": {},
     "output_type": "execute_result"
    }
   ],
   "source": [
    "data = \"aabcd\"\n",
    "re.findall(\"aa.?c\", data) # aa (아무문자)가 0회 또는 1회 후 c"
   ]
  },
  {
   "cell_type": "code",
   "execution_count": 177,
   "metadata": {},
   "outputs": [
    {
     "data": {
      "text/plain": [
       "['aac']"
      ]
     },
     "execution_count": 177,
     "metadata": {},
     "output_type": "execute_result"
    }
   ],
   "source": [
    "data = \"aacd\"\n",
    "re.findall(\"aab*c\", data) # aa (b 0회 반복) c"
   ]
  },
  {
   "cell_type": "code",
   "execution_count": 179,
   "metadata": {},
   "outputs": [
    {
     "data": {
      "text/plain": [
       "['aabbbbbbc']"
      ]
     },
     "execution_count": 179,
     "metadata": {},
     "output_type": "execute_result"
    }
   ],
   "source": [
    "data = \"aabbbbbbcd\"\n",
    "re.findall(\"aab+c\", data) # aa (b 1회 이상 반복) c"
   ]
  },
  {
   "cell_type": "code",
   "execution_count": 184,
   "metadata": {},
   "outputs": [],
   "source": [
    "#이메일 찾기\n",
    "data = \"저의 이메일 주소는 pdj.1224@gmail.com과 1221_pdj@naver.co.kr을 사용합니다\""
   ]
  },
  {
   "cell_type": "code",
   "execution_count": 188,
   "metadata": {},
   "outputs": [
    {
     "data": {
      "text/plain": [
       "['pdj.1224@gmail.com', '1221_pdj@naver.co.kr']"
      ]
     },
     "execution_count": 188,
     "metadata": {},
     "output_type": "execute_result"
    }
   ],
   "source": [
    "pattern = \"[a-zA-Z0-9._@]+\"\n",
    "re.findall(pattern, data)"
   ]
  },
  {
   "cell_type": "code",
   "execution_count": 187,
   "metadata": {},
   "outputs": [
    {
     "data": {
      "text/plain": [
       "['pdj.1224@gmail.com', '1221_pdj@naver.co.kr']"
      ]
     },
     "execution_count": 187,
     "metadata": {},
     "output_type": "execute_result"
    }
   ],
   "source": [
    "pattern = \"[a-zA-Z0-9._]+@[a-z0-9]+[a-z0-9.]+\"\n",
    "re.findall(pattern, data)"
   ]
  },
  {
   "cell_type": "code",
   "execution_count": 192,
   "metadata": {},
   "outputs": [
    {
     "data": {
      "text/plain": [
       "[('pdj.1224', 'gmail'), ('1221_pdj', 'naver')]"
      ]
     },
     "execution_count": 192,
     "metadata": {},
     "output_type": "execute_result"
    }
   ],
   "source": [
    "#도메인만 찾고 싶을때 (내가 원하는 것만 찾고 싶을 때 grouping을 사용 - 원하는 부분에 괄호를 사용)\n",
    "pattern = \"([a-zA-Z0-9._]+)@([a-z0-9]+)[a-z0-9.]+\"\n",
    "re.findall(pattern, data)"
   ]
  },
  {
   "cell_type": "code",
   "execution_count": 196,
   "metadata": {},
   "outputs": [
    {
     "data": {
      "text/plain": [
       "['611211-1098765']"
      ]
     },
     "execution_count": 196,
     "metadata": {},
     "output_type": "execute_result"
    }
   ],
   "source": [
    "# 주민등록번호 패턴을 찾아서 치환\n",
    "data = \"저의 주민등록번호는 611211-1098765 입니다.\"\n",
    "re.findall(\"[0-9]{6}.?[0-9]{7}\", data) #0부터 9까지 6개 + \".\" = 어떤 문자가  ? == 한번"
   ]
  },
  {
   "cell_type": "code",
   "execution_count": 199,
   "metadata": {},
   "outputs": [
    {
     "data": {
      "text/plain": [
       "[('611211-1', '098765')]"
      ]
     },
     "execution_count": 199,
     "metadata": {},
     "output_type": "execute_result"
    }
   ],
   "source": [
    "re.findall(\"([0-9]{6}.?[1-4]{1})([0-9]{6})\", data)"
   ]
  },
  {
   "cell_type": "code",
   "execution_count": 200,
   "metadata": {},
   "outputs": [
    {
     "data": {
      "text/plain": [
       "'저의 주민등록번호는 611211-1****** 입니다.'"
      ]
     },
     "execution_count": 200,
     "metadata": {},
     "output_type": "execute_result"
    }
   ],
   "source": [
    "re.sub(\"([0-9]{6}.?[1-4]{1})([0-9]{6})\", \"\\g<1>******\", data) # \\g<1> 위 그룹 두개 중 group 1번인 611211-1을 앞에 붙인 후 ****** 붙이기"
   ]
  },
  {
   "cell_type": "code",
   "execution_count": null,
   "metadata": {},
   "outputs": [],
   "source": [
    "# 퀴즈 1 : 카드번호의 3번쨰 숫자 4자리를 *로 치환하는 코드 작성\n",
    "# 12341234-1234.1234 -> 1234-1234-****-1234"
   ]
  },
  {
   "cell_type": "code",
   "execution_count": 201,
   "metadata": {},
   "outputs": [],
   "source": [
    "data = \"12341234-1234.1234\""
   ]
  },
  {
   "cell_type": "code",
   "execution_count": 203,
   "metadata": {},
   "outputs": [
    {
     "data": {
      "text/plain": [
       "'1234-1234-****-1234'"
      ]
     },
     "execution_count": 203,
     "metadata": {},
     "output_type": "execute_result"
    }
   ],
   "source": [
    "re.sub(\"([0-9]{4}).?([0-9]{4}).?([0-9]{4}).?([0-9]{4})\", \"\\g<1>-\\g<2>-****-\\g<4>\", data)"
   ]
  },
  {
   "cell_type": "code",
   "execution_count": null,
   "metadata": {},
   "outputs": [],
   "source": [
    "# 퀴즈 2 : 중고나라 게시글에서 전화번호를 숫자로 치환\n",
    "# 저의 연락처는 공일0-칠영19오O삼7 입니다. -> 010-7019-5037"
   ]
  },
  {
   "cell_type": "code",
   "execution_count": 252,
   "metadata": {},
   "outputs": [],
   "source": [
    "data = \"저의 연락처는 공일0-칠영19오O삼7 입니다.\""
   ]
  },
  {
   "cell_type": "code",
   "execution_count": 253,
   "metadata": {},
   "outputs": [
    {
     "data": {
      "text/plain": [
       "'저의 연락처는 공일0-칠영19오O삼7 입니다.'"
      ]
     },
     "execution_count": 253,
     "metadata": {},
     "output_type": "execute_result"
    }
   ],
   "source": [
    "data"
   ]
  },
  {
   "cell_type": "code",
   "execution_count": 254,
   "metadata": {},
   "outputs": [],
   "source": [
    "rdata = re.sub(\"([공일영0-1oO]{3}).?([일이삼사오육칠팔구영공0-9Oo]{4}).?([일이삼사오육칠팔구영공0-9Oo]{4})\", \"010-\\g<2>-\\g<3>\" , data)"
   ]
  },
  {
   "cell_type": "code",
   "execution_count": 255,
   "metadata": {},
   "outputs": [],
   "source": [
    "rdata = re.sub(\"[공영0Oo]{1}\", \"0\", rdata)\n",
    "rdata = re.sub(\"[일]{1}\", \"1\", rdata)\n",
    "rdata = re.sub(\"[이]{1}\", \"2\", rdata)\n",
    "rdata = re.sub(\"[삼]{1}\", \"3\", rdata)\n",
    "rdata = re.sub(\"[사]{1}\", \"4\", rdata)\n",
    "rdata = re.sub(\"[오]{1}\", \"5\", rdata)\n",
    "rdata = re.sub(\"[육]{1}\", \"6\", rdata)\n",
    "rdata = re.sub(\"[칠]{1}\", \"7\", rdata)\n",
    "rdata = re.sub(\"[팔]{1}\", \"8\", rdata)\n",
    "rdata = re.sub(\"[구]{1}\", \"9\", rdata)"
   ]
  },
  {
   "cell_type": "code",
   "execution_count": 288,
   "metadata": {},
   "outputs": [
    {
     "data": {
      "text/plain": [
       "'저의 연락처는 010-7019-5037 입니다.'"
      ]
     },
     "execution_count": 288,
     "metadata": {},
     "output_type": "execute_result"
    }
   ],
   "source": [
    "rdata"
   ]
  },
  {
   "cell_type": "code",
   "execution_count": null,
   "metadata": {},
   "outputs": [],
   "source": []
  },
  {
   "cell_type": "markdown",
   "metadata": {},
   "source": [
    "### class - super\n",
    "- 선택적으로 부모 클래스의 함수를 실행"
   ]
  },
  {
   "cell_type": "code",
   "execution_count": 17,
   "metadata": {},
   "outputs": [],
   "source": [
    "class A:\n",
    "    def __init__(self, data=\"A_data\"):\n",
    "        print(\"A : __init__\", data)\n",
    "    def method(self):\n",
    "        print(\"A : method\")"
   ]
  },
  {
   "cell_type": "code",
   "execution_count": 18,
   "metadata": {},
   "outputs": [],
   "source": [
    "class B:\n",
    "    def __init__(self, data=\"B_data\"):\n",
    "        print(\"B : __init__\", data)\n",
    "    def method(self):\n",
    "        print(\"B : method\")"
   ]
  },
  {
   "cell_type": "code",
   "execution_count": 19,
   "metadata": {},
   "outputs": [],
   "source": [
    "# B -> A -> C\n",
    "class C(A, B):\n",
    "    def __init__(self):\n",
    "        super().__init__()\n",
    "        print(\"C : __init__\")"
   ]
  },
  {
   "cell_type": "code",
   "execution_count": 20,
   "metadata": {},
   "outputs": [
    {
     "name": "stdout",
     "output_type": "stream",
     "text": [
      "A : __init__ A_data\n",
      "C : __init__\n"
     ]
    }
   ],
   "source": [
    "c = C()"
   ]
  },
  {
   "cell_type": "code",
   "execution_count": 21,
   "metadata": {},
   "outputs": [],
   "source": [
    "# A -> B -> C\n",
    "class C(B, A):\n",
    "    def __init__(self):\n",
    "        super().__init__()\n",
    "        print(\"C : __init__\")"
   ]
  },
  {
   "cell_type": "code",
   "execution_count": 22,
   "metadata": {},
   "outputs": [
    {
     "name": "stdout",
     "output_type": "stream",
     "text": [
      "B : __init__ B_data\n",
      "C : __init__\n"
     ]
    }
   ],
   "source": [
    "c = C()"
   ]
  },
  {
   "cell_type": "code",
   "execution_count": 24,
   "metadata": {},
   "outputs": [
    {
     "name": "stdout",
     "output_type": "stream",
     "text": [
      "B : __init__ B_data\n",
      "A : __init__ A_data\n",
      "A : method\n",
      "C : __init__\n"
     ]
    }
   ],
   "source": [
    "# 선택적으로 부모 클래스의 함수 실행\n",
    "# A -> B -> C\n",
    "class C(B, A):\n",
    "    def __init__(self):\n",
    "        super(C, self).__init__()\n",
    "        super(B, self).__init__()\n",
    "        super(B, self).method()\n",
    "        print(\"C : __init__\")\n",
    "        \n",
    "c = C()"
   ]
  },
  {
   "cell_type": "code",
   "execution_count": 23,
   "metadata": {},
   "outputs": [],
   "source": [
    "# super를 쓰면 다이아몬드 상속 문제를 피할 수 있다."
   ]
  },
  {
   "cell_type": "code",
   "execution_count": 36,
   "metadata": {},
   "outputs": [],
   "source": [
    "# super() 사용 전"
   ]
  },
  {
   "cell_type": "code",
   "execution_count": 37,
   "metadata": {},
   "outputs": [],
   "source": [
    "class A:\n",
    "    def __init__(self, data=\"A_data\"):\n",
    "        print(\"A : __init__\", data)\n",
    "\n",
    "class B(A):\n",
    "    def __init__(self, data=\"B_data\"):\n",
    "        A.__init__(self)\n",
    "        print(\"B : __init__\", data)\n",
    "\n",
    "class C(A):\n",
    "    def __init__(self, data=\"C_data\"):\n",
    "        A.__init__(self)\n",
    "        print(\"c : __init__\", data)\n",
    "        \n",
    "class D(B, C):\n",
    "    def __init__(self, data=\"A_data\"):\n",
    "        B.__init__(self)\n",
    "        C.__init__(self)\n",
    "        print(\"D : __init__\", data)"
   ]
  },
  {
   "cell_type": "code",
   "execution_count": 26,
   "metadata": {},
   "outputs": [],
   "source": [
    "# super() 사용 후"
   ]
  },
  {
   "cell_type": "code",
   "execution_count": 34,
   "metadata": {},
   "outputs": [],
   "source": [
    "class A:\n",
    "    def __init__(self, data=\"A_data\"):\n",
    "        super().__init__()\n",
    "        print(\"A : __init__\", data) # code_1\n",
    "\n",
    "class B(A):\n",
    "    def __init__(self, data=\"B_data\"):\n",
    "        super().__init__()          # code_2\n",
    "        print(\"B : __init__\", data) # code_3 \n",
    "\n",
    "class C(A):\n",
    "    def __init__(self, data=\"C_data\"):\n",
    "        super().__init__()          # code_4\n",
    "        print(\"c : __init__\", data) # code_5\n",
    "        \n",
    "class D(C, B):\n",
    "    def __init__(self, data=\"A_data\"):\n",
    "        # 1. D -> C -> B -> A\n",
    "        # 2. D(C) -> C(B, A) -> B(A)\n",
    "        # 3. super는 중복 상속을 제거해주는 효과\n",
    "        # 4. C.__init__()\n",
    "        # 5. code_4 -> code_2 -> code_1 -> code_3 -> code_5 -> code_6\n",
    "        super().__init__()\n",
    "        print(\"D : __init__\", data) #code_6"
   ]
  },
  {
   "cell_type": "code",
   "execution_count": 35,
   "metadata": {},
   "outputs": [
    {
     "name": "stdout",
     "output_type": "stream",
     "text": [
      "A : __init__ A_data\n",
      "B : __init__ B_data\n",
      "c : __init__ C_data\n",
      "D : __init__ A_data\n"
     ]
    },
    {
     "data": {
      "text/plain": [
       "<__main__.D at 0x1efce13fb48>"
      ]
     },
     "execution_count": 35,
     "metadata": {},
     "output_type": "execute_result"
    }
   ],
   "source": [
    "D()"
   ]
  },
  {
   "cell_type": "code",
   "execution_count": null,
   "metadata": {},
   "outputs": [],
   "source": []
  },
  {
   "cell_type": "code",
   "execution_count": null,
   "metadata": {},
   "outputs": [],
   "source": []
  }
 ],
 "metadata": {
  "kernelspec": {
   "display_name": "Python 3",
   "language": "python",
   "name": "python3"
  },
  "language_info": {
   "codemirror_mode": {
    "name": "ipython",
    "version": 3
   },
   "file_extension": ".py",
   "mimetype": "text/x-python",
   "name": "python",
   "nbconvert_exporter": "python",
   "pygments_lexer": "ipython3",
   "version": "3.7.6"
  }
 },
 "nbformat": 4,
 "nbformat_minor": 4
}
