{
 "cells": [
  {
   "cell_type": "markdown",
   "metadata": {},
   "source": [
    "### 파이썬의 개요\n",
    "\n",
    "- 컴퓨터의 자원을 활용하는 방법들\n",
    "    - 변수선언 : RAM을 사용하는 방법\n",
    "    - 데이터 타입 : RAM 자원을 효율적으로 사용하기 위해서 만들어진 개념\n",
    "    - 연산자 : CPU를 이용해서 변수를 계산하는 방법\n",
    "\n",
    "- 코드를 효율적으로 작성하기 위해서 사용되는 문법\n",
    "    - 조건문 : 특정 조건에 따라서 코드를 실행\n",
    "    - 반복문 : 특정 코드를 반복적으로 실행할 때 사용하는 문법\n",
    "    - 함수 : 반복되는 특정 코드를 묶어서 사용하는 방법 (위 5가지를 사용하여 만든 기능)\n",
    "    - 클래스\n",
    "        - 변수(재료)와 함수(기능)들의 묶음\n",
    "        - 효율적으로 협업해서 코드를 작성하는 방법(객체지향)\n",
    "    - 모듈\n",
    "        - 변수, 함수, 클래스를 하나의 파일 단위로 묶어 놓은 것\n",
    "    - 패키지\n",
    "        - 여러 개의 모듈을 디렉토리로 나누어서 묶어 놓은 것\n",
    "- 예외처리\n",
    "    - 코드의 에러를 처리하는 방법\n",
    "- 입출력\n",
    "    - RAM에 저장되어 있는 데이터를 Hard Disk에 파일로 저장하는 방법\n",
    "- 정규표현식\n",
    "    - 특정 패턴으로 문자열을 다루는 방법"
   ]
  },
  {
   "cell_type": "code",
   "execution_count": null,
   "metadata": {},
   "outputs": [],
   "source": []
  },
  {
   "cell_type": "code",
   "execution_count": null,
   "metadata": {},
   "outputs": [],
   "source": []
  },
  {
   "cell_type": "code",
   "execution_count": null,
   "metadata": {},
   "outputs": [],
   "source": []
  },
  {
   "cell_type": "code",
   "execution_count": null,
   "metadata": {},
   "outputs": [],
   "source": []
  },
  {
   "cell_type": "code",
   "execution_count": null,
   "metadata": {},
   "outputs": [],
   "source": []
  },
  {
   "cell_type": "code",
   "execution_count": null,
   "metadata": {},
   "outputs": [],
   "source": []
  },
  {
   "cell_type": "code",
   "execution_count": null,
   "metadata": {},
   "outputs": [],
   "source": []
  },
  {
   "cell_type": "code",
   "execution_count": null,
   "metadata": {},
   "outputs": [],
   "source": []
  },
  {
   "cell_type": "code",
   "execution_count": null,
   "metadata": {},
   "outputs": [],
   "source": []
  }
 ],
 "metadata": {
  "kernelspec": {
   "display_name": "Python 3",
   "language": "python",
   "name": "python3"
  },
  "language_info": {
   "codemirror_mode": {
    "name": "ipython",
    "version": 3
   },
   "file_extension": ".py",
   "mimetype": "text/x-python",
   "name": "python",
   "nbconvert_exporter": "python",
   "pygments_lexer": "ipython3",
   "version": "3.7.6"
  }
 },
 "nbformat": 4,
 "nbformat_minor": 4
}
