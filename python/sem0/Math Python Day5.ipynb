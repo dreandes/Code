{
 "cells": [
  {
   "cell_type": "markdown",
   "metadata": {},
   "source": [
    "# 수학 기초"
   ]
  },
  {
   "cell_type": "markdown",
   "metadata": {},
   "source": [
    "## Day 5 통계"
   ]
  },
  {
   "cell_type": "code",
   "execution_count": 1,
   "metadata": {},
   "outputs": [],
   "source": [
    "import numpy as np"
   ]
  },
  {
   "cell_type": "code",
   "execution_count": 3,
   "metadata": {},
   "outputs": [],
   "source": [
    "np.random.seed(seed = 1234)\n",
    "heights = np.random.normal(170, 10, size = 100)"
   ]
  },
  {
   "cell_type": "code",
   "execution_count": 4,
   "metadata": {},
   "outputs": [
    {
     "data": {
      "text/plain": [
       "170.3511228312544"
      ]
     },
     "execution_count": 4,
     "metadata": {},
     "output_type": "execute_result"
    }
   ],
   "source": [
    "np.mean(heights)"
   ]
  },
  {
   "cell_type": "code",
   "execution_count": 5,
   "metadata": {},
   "outputs": [
    {
     "data": {
      "text/plain": [
       "171.02277633388422"
      ]
     },
     "execution_count": 5,
     "metadata": {},
     "output_type": "execute_result"
    }
   ],
   "source": [
    "np.median(heights)"
   ]
  },
  {
   "cell_type": "code",
   "execution_count": 6,
   "metadata": {},
   "outputs": [
    {
     "data": {
      "text/plain": [
       "134.36483339375263"
      ]
     },
     "execution_count": 6,
     "metadata": {},
     "output_type": "execute_result"
    }
   ],
   "source": [
    "np.min(heights)"
   ]
  },
  {
   "cell_type": "code",
   "execution_count": 7,
   "metadata": {},
   "outputs": [
    {
     "data": {
      "text/plain": [
       "193.90960515463033"
      ]
     },
     "execution_count": 7,
     "metadata": {},
     "output_type": "execute_result"
    }
   ],
   "source": [
    "np.max(heights)"
   ]
  },
  {
   "cell_type": "code",
   "execution_count": 8,
   "metadata": {},
   "outputs": [
    {
     "data": {
      "text/plain": [
       "59.544771760877694"
      ]
     },
     "execution_count": 8,
     "metadata": {},
     "output_type": "execute_result"
    }
   ],
   "source": [
    "np.max(heights) - np.min(heights)"
   ]
  },
  {
   "cell_type": "code",
   "execution_count": 9,
   "metadata": {},
   "outputs": [
    {
     "data": {
      "text/plain": [
       "165.2005070918887"
      ]
     },
     "execution_count": 9,
     "metadata": {},
     "output_type": "execute_result"
    }
   ],
   "source": [
    "np.percentile(heights, 25)"
   ]
  },
  {
   "cell_type": "code",
   "execution_count": 10,
   "metadata": {},
   "outputs": [
    {
     "data": {
      "text/plain": [
       "177.17393963837364"
      ]
     },
     "execution_count": 10,
     "metadata": {},
     "output_type": "execute_result"
    }
   ],
   "source": [
    "np.percentile(heights, 75)"
   ]
  },
  {
   "cell_type": "code",
   "execution_count": 11,
   "metadata": {},
   "outputs": [
    {
     "data": {
      "text/plain": [
       "11.97343254648493"
      ]
     },
     "execution_count": 11,
     "metadata": {},
     "output_type": "execute_result"
    }
   ],
   "source": [
    "np.percentile(heights, 75) - np.percentile(heights, 25)"
   ]
  },
  {
   "cell_type": "code",
   "execution_count": 12,
   "metadata": {},
   "outputs": [
    {
     "data": {
      "text/plain": [
       "array([134.36483339, 165.20050709, 171.02277633, 177.17393964,\n",
       "       193.90960515])"
      ]
     },
     "execution_count": 12,
     "metadata": {},
     "output_type": "execute_result"
    }
   ],
   "source": [
    "np.percentile(heights, [0, 25, 50, 75, 100])"
   ]
  },
  {
   "cell_type": "code",
   "execution_count": 13,
   "metadata": {},
   "outputs": [
    {
     "data": {
      "text/plain": [
       "99.13883211874334"
      ]
     },
     "execution_count": 13,
     "metadata": {},
     "output_type": "execute_result"
    }
   ],
   "source": [
    "np.var(heights)"
   ]
  },
  {
   "cell_type": "code",
   "execution_count": 14,
   "metadata": {},
   "outputs": [
    {
     "data": {
      "text/plain": [
       "9.956848503354028"
      ]
     },
     "execution_count": 14,
     "metadata": {},
     "output_type": "execute_result"
    }
   ],
   "source": [
    "np.std(heights)"
   ]
  },
  {
   "cell_type": "code",
   "execution_count": 15,
   "metadata": {},
   "outputs": [],
   "source": [
    "math = [82, 58, 64, 76, 55, 89, 98, 92, 46, 87]\n",
    "korean = [98, 78, 87, 78, 72, 87, 99, 83, 76, 90]"
   ]
  },
  {
   "cell_type": "code",
   "execution_count": 16,
   "metadata": {},
   "outputs": [
    {
     "data": {
      "text/plain": [
       "array([[317.56666667, 119.71111111],\n",
       "       [119.71111111,  83.28888889]])"
      ]
     },
     "execution_count": 16,
     "metadata": {},
     "output_type": "execute_result"
    }
   ],
   "source": [
    "np.cov(math, korean)"
   ]
  },
  {
   "cell_type": "code",
   "execution_count": 17,
   "metadata": {},
   "outputs": [
    {
     "data": {
      "text/plain": [
       "array([[1.        , 0.73607738],\n",
       "       [0.73607738, 1.        ]])"
      ]
     },
     "execution_count": 17,
     "metadata": {},
     "output_type": "execute_result"
    }
   ],
   "source": [
    "np.corrcoef(math, korean)"
   ]
  },
  {
   "cell_type": "code",
   "execution_count": 19,
   "metadata": {},
   "outputs": [
    {
     "data": {
      "text/plain": [
       "array([130, 140, 150, 160, 170, 180, 190, 200, 210])"
      ]
     },
     "execution_count": 19,
     "metadata": {},
     "output_type": "execute_result"
    }
   ],
   "source": [
    "bins = np.arange(130, 211, 10)\n",
    "bins"
   ]
  },
  {
   "cell_type": "code",
   "execution_count": 20,
   "metadata": {},
   "outputs": [],
   "source": [
    "hist, bins = np.histogram(heights, bins)"
   ]
  },
  {
   "cell_type": "code",
   "execution_count": 21,
   "metadata": {},
   "outputs": [
    {
     "data": {
      "text/plain": [
       "array([ 1,  4,  9, 29, 43, 11,  3,  0], dtype=int64)"
      ]
     },
     "execution_count": 21,
     "metadata": {},
     "output_type": "execute_result"
    }
   ],
   "source": [
    "hist"
   ]
  },
  {
   "cell_type": "code",
   "execution_count": 22,
   "metadata": {},
   "outputs": [],
   "source": [
    "total = len(heights)"
   ]
  },
  {
   "cell_type": "code",
   "execution_count": 23,
   "metadata": {},
   "outputs": [
    {
     "data": {
      "text/plain": [
       "100"
      ]
     },
     "execution_count": 23,
     "metadata": {},
     "output_type": "execute_result"
    }
   ],
   "source": [
    "total"
   ]
  },
  {
   "cell_type": "code",
   "execution_count": 24,
   "metadata": {},
   "outputs": [],
   "source": [
    "prop = hist / total"
   ]
  },
  {
   "cell_type": "code",
   "execution_count": 25,
   "metadata": {},
   "outputs": [
    {
     "data": {
      "text/plain": [
       "array([0.01, 0.04, 0.09, 0.29, 0.43, 0.11, 0.03, 0.  ])"
      ]
     },
     "execution_count": 25,
     "metadata": {},
     "output_type": "execute_result"
    }
   ],
   "source": [
    "prop"
   ]
  },
  {
   "cell_type": "code",
   "execution_count": 26,
   "metadata": {},
   "outputs": [
    {
     "data": {
      "text/plain": [
       "1.0"
      ]
     },
     "execution_count": 26,
     "metadata": {},
     "output_type": "execute_result"
    }
   ],
   "source": [
    "sum(prop)"
   ]
  },
  {
   "cell_type": "code",
   "execution_count": 27,
   "metadata": {},
   "outputs": [],
   "source": [
    "import matplotlib.pyplot as plt"
   ]
  },
  {
   "cell_type": "code",
   "execution_count": 30,
   "metadata": {},
   "outputs": [
    {
     "data": {
      "image/png": "[encoded data removed]",
      "text/plain": [
       "<Figure size 432x288 with 1 Axes>"
      ]
     },
     "metadata": {
      "needs_background": "light"
     },
     "output_type": "display_data"
    }
   ],
   "source": [
    "plt.hist(heights, bins)\n",
    "plt.xlabel('Height(cm)', fontsize = 14)\n",
    "plt.xticks(fontsize = 12)\n",
    "plt.yticks(fontsize = 12)\n",
    "plt.show()"
   ]
  },
  {
   "cell_type": "code",
   "execution_count": 31,
   "metadata": {},
   "outputs": [
    {
     "data": {
      "image/png": "[encoded data removed]",
      "text/plain": [
       "<Figure size 432x288 with 1 Axes>"
      ]
     },
     "metadata": {
      "needs_background": "light"
     },
     "output_type": "display_data"
    }
   ],
   "source": [
    "plt.boxplot(heights, sym = 'bo')\n",
    "plt.title('Boxplot of Heights', fontsize = 16)\n",
    "plt.xticks([1], ['Heights'], fontsize = 12)\n",
    "plt.show()"
   ]
  },
  {
   "cell_type": "code",
   "execution_count": 32,
   "metadata": {},
   "outputs": [
    {
     "data": {
      "image/png": "[encoded data removed]",
      "text/plain": [
       "<Figure size 432x288 with 1 Axes>"
      ]
     },
     "metadata": {
      "needs_background": "light"
     },
     "output_type": "display_data"
    }
   ],
   "source": [
    "plt.scatter(math, korean, color = 'b', marker = 'o')\n",
    "plt.title('Scatter plot', fontsize = 16)\n",
    "plt.xlabel('Math Score', fontsize = 14)\n",
    "plt.ylabel('Korean Score', fontsize = 14)\n",
    "plt.show()"
   ]
  },
  {
   "cell_type": "code",
   "execution_count": 33,
   "metadata": {},
   "outputs": [],
   "source": [
    "from scipy import stats"
   ]
  },
  {
   "cell_type": "code",
   "execution_count": 34,
   "metadata": {},
   "outputs": [
    {
     "data": {
      "text/plain": [
       "array([130. , 130.1, 130.2, 130.3, 130.4, 130.5, 130.6, 130.7, 130.8,\n",
       "       130.9, 131. , 131.1, 131.2, 131.3, 131.4, 131.5, 131.6, 131.7,\n",
       "       131.8, 131.9, 132. , 132.1, 132.2, 132.3, 132.4, 132.5, 132.6,\n",
       "       132.7, 132.8, 132.9, 133. , 133.1, 133.2, 133.3, 133.4, 133.5,\n",
       "       133.6, 133.7, 133.8, 133.9, 134. , 134.1, 134.2, 134.3, 134.4,\n",
       "       134.5, 134.6, 134.7, 134.8, 134.9, 135. , 135.1, 135.2, 135.3,\n",
       "       135.4, 135.5, 135.6, 135.7, 135.8, 135.9, 136. , 136.1, 136.2,\n",
       "       136.3, 136.4, 136.5, 136.6, 136.7, 136.8, 136.9, 137. , 137.1,\n",
       "       137.2, 137.3, 137.4, 137.5, 137.6, 137.7, 137.8, 137.9, 138. ,\n",
       "       138.1, 138.2, 138.3, 138.4, 138.5, 138.6, 138.7, 138.8, 138.9,\n",
       "       139. , 139.1, 139.2, 139.3, 139.4, 139.5, 139.6, 139.7, 139.8,\n",
       "       139.9, 140. , 140.1, 140.2, 140.3, 140.4, 140.5, 140.6, 140.7,\n",
       "       140.8, 140.9, 141. , 141.1, 141.2, 141.3, 141.4, 141.5, 141.6,\n",
       "       141.7, 141.8, 141.9, 142. , 142.1, 142.2, 142.3, 142.4, 142.5,\n",
       "       142.6, 142.7, 142.8, 142.9, 143. , 143.1, 143.2, 143.3, 143.4,\n",
       "       143.5, 143.6, 143.7, 143.8, 143.9, 144. , 144.1, 144.2, 144.3,\n",
       "       144.4, 144.5, 144.6, 144.7, 144.8, 144.9, 145. , 145.1, 145.2,\n",
       "       145.3, 145.4, 145.5, 145.6, 145.7, 145.8, 145.9, 146. , 146.1,\n",
       "       146.2, 146.3, 146.4, 146.5, 146.6, 146.7, 146.8, 146.9, 147. ,\n",
       "       147.1, 147.2, 147.3, 147.4, 147.5, 147.6, 147.7, 147.8, 147.9,\n",
       "       148. , 148.1, 148.2, 148.3, 148.4, 148.5, 148.6, 148.7, 148.8,\n",
       "       148.9, 149. , 149.1, 149.2, 149.3, 149.4, 149.5, 149.6, 149.7,\n",
       "       149.8, 149.9, 150. , 150.1, 150.2, 150.3, 150.4, 150.5, 150.6,\n",
       "       150.7, 150.8, 150.9, 151. , 151.1, 151.2, 151.3, 151.4, 151.5,\n",
       "       151.6, 151.7, 151.8, 151.9, 152. , 152.1, 152.2, 152.3, 152.4,\n",
       "       152.5, 152.6, 152.7, 152.8, 152.9, 153. , 153.1, 153.2, 153.3,\n",
       "       153.4, 153.5, 153.6, 153.7, 153.8, 153.9, 154. , 154.1, 154.2,\n",
       "       154.3, 154.4, 154.5, 154.6, 154.7, 154.8, 154.9, 155. , 155.1,\n",
       "       155.2, 155.3, 155.4, 155.5, 155.6, 155.7, 155.8, 155.9, 156. ,\n",
       "       156.1, 156.2, 156.3, 156.4, 156.5, 156.6, 156.7, 156.8, 156.9,\n",
       "       157. , 157.1, 157.2, 157.3, 157.4, 157.5, 157.6, 157.7, 157.8,\n",
       "       157.9, 158. , 158.1, 158.2, 158.3, 158.4, 158.5, 158.6, 158.7,\n",
       "       158.8, 158.9, 159. , 159.1, 159.2, 159.3, 159.4, 159.5, 159.6,\n",
       "       159.7, 159.8, 159.9, 160. , 160.1, 160.2, 160.3, 160.4, 160.5,\n",
       "       160.6, 160.7, 160.8, 160.9, 161. , 161.1, 161.2, 161.3, 161.4,\n",
       "       161.5, 161.6, 161.7, 161.8, 161.9, 162. , 162.1, 162.2, 162.3,\n",
       "       162.4, 162.5, 162.6, 162.7, 162.8, 162.9, 163. , 163.1, 163.2,\n",
       "       163.3, 163.4, 163.5, 163.6, 163.7, 163.8, 163.9, 164. , 164.1,\n",
       "       164.2, 164.3, 164.4, 164.5, 164.6, 164.7, 164.8, 164.9, 165. ,\n",
       "       165.1, 165.2, 165.3, 165.4, 165.5, 165.6, 165.7, 165.8, 165.9,\n",
       "       166. , 166.1, 166.2, 166.3, 166.4, 166.5, 166.6, 166.7, 166.8,\n",
       "       166.9, 167. , 167.1, 167.2, 167.3, 167.4, 167.5, 167.6, 167.7,\n",
       "       167.8, 167.9, 168. , 168.1, 168.2, 168.3, 168.4, 168.5, 168.6,\n",
       "       168.7, 168.8, 168.9, 169. , 169.1, 169.2, 169.3, 169.4, 169.5,\n",
       "       169.6, 169.7, 169.8, 169.9, 170. , 170.1, 170.2, 170.3, 170.4,\n",
       "       170.5, 170.6, 170.7, 170.8, 170.9, 171. , 171.1, 171.2, 171.3,\n",
       "       171.4, 171.5, 171.6, 171.7, 171.8, 171.9, 172. , 172.1, 172.2,\n",
       "       172.3, 172.4, 172.5, 172.6, 172.7, 172.8, 172.9, 173. , 173.1,\n",
       "       173.2, 173.3, 173.4, 173.5, 173.6, 173.7, 173.8, 173.9, 174. ,\n",
       "       174.1, 174.2, 174.3, 174.4, 174.5, 174.6, 174.7, 174.8, 174.9,\n",
       "       175. , 175.1, 175.2, 175.3, 175.4, 175.5, 175.6, 175.7, 175.8,\n",
       "       175.9, 176. , 176.1, 176.2, 176.3, 176.4, 176.5, 176.6, 176.7,\n",
       "       176.8, 176.9, 177. , 177.1, 177.2, 177.3, 177.4, 177.5, 177.6,\n",
       "       177.7, 177.8, 177.9, 178. , 178.1, 178.2, 178.3, 178.4, 178.5,\n",
       "       178.6, 178.7, 178.8, 178.9, 179. , 179.1, 179.2, 179.3, 179.4,\n",
       "       179.5, 179.6, 179.7, 179.8, 179.9, 180. , 180.1, 180.2, 180.3,\n",
       "       180.4, 180.5, 180.6, 180.7, 180.8, 180.9, 181. , 181.1, 181.2,\n",
       "       181.3, 181.4, 181.5, 181.6, 181.7, 181.8, 181.9, 182. , 182.1,\n",
       "       182.2, 182.3, 182.4, 182.5, 182.6, 182.7, 182.8, 182.9, 183. ,\n",
       "       183.1, 183.2, 183.3, 183.4, 183.5, 183.6, 183.7, 183.8, 183.9,\n",
       "       184. , 184.1, 184.2, 184.3, 184.4, 184.5, 184.6, 184.7, 184.8,\n",
       "       184.9, 185. , 185.1, 185.2, 185.3, 185.4, 185.5, 185.6, 185.7,\n",
       "       185.8, 185.9, 186. , 186.1, 186.2, 186.3, 186.4, 186.5, 186.6,\n",
       "       186.7, 186.8, 186.9, 187. , 187.1, 187.2, 187.3, 187.4, 187.5,\n",
       "       187.6, 187.7, 187.8, 187.9, 188. , 188.1, 188.2, 188.3, 188.4,\n",
       "       188.5, 188.6, 188.7, 188.8, 188.9, 189. , 189.1, 189.2, 189.3,\n",
       "       189.4, 189.5, 189.6, 189.7, 189.8, 189.9, 190. , 190.1, 190.2,\n",
       "       190.3, 190.4, 190.5, 190.6, 190.7, 190.8, 190.9, 191. , 191.1,\n",
       "       191.2, 191.3, 191.4, 191.5, 191.6, 191.7, 191.8, 191.9, 192. ,\n",
       "       192.1, 192.2, 192.3, 192.4, 192.5, 192.6, 192.7, 192.8, 192.9,\n",
       "       193. , 193.1, 193.2, 193.3, 193.4, 193.5, 193.6, 193.7, 193.8,\n",
       "       193.9, 194. , 194.1, 194.2, 194.3, 194.4, 194.5, 194.6, 194.7,\n",
       "       194.8, 194.9, 195. , 195.1, 195.2, 195.3, 195.4, 195.5, 195.6,\n",
       "       195.7, 195.8, 195.9, 196. , 196.1, 196.2, 196.3, 196.4, 196.5,\n",
       "       196.6, 196.7, 196.8, 196.9, 197. , 197.1, 197.2, 197.3, 197.4,\n",
       "       197.5, 197.6, 197.7, 197.8, 197.9, 198. , 198.1, 198.2, 198.3,\n",
       "       198.4, 198.5, 198.6, 198.7, 198.8, 198.9, 199. , 199.1, 199.2,\n",
       "       199.3, 199.4, 199.5, 199.6, 199.7, 199.8, 199.9, 200. , 200.1,\n",
       "       200.2, 200.3, 200.4, 200.5, 200.6, 200.7, 200.8, 200.9, 201. ,\n",
       "       201.1, 201.2, 201.3, 201.4, 201.5, 201.6, 201.7, 201.8, 201.9,\n",
       "       202. , 202.1, 202.2, 202.3, 202.4, 202.5, 202.6, 202.7, 202.8,\n",
       "       202.9, 203. , 203.1, 203.2, 203.3, 203.4, 203.5, 203.6, 203.7,\n",
       "       203.8, 203.9, 204. , 204.1, 204.2, 204.3, 204.4, 204.5, 204.6,\n",
       "       204.7, 204.8, 204.9, 205. , 205.1, 205.2, 205.3, 205.4, 205.5,\n",
       "       205.6, 205.7, 205.8, 205.9, 206. , 206.1, 206.2, 206.3, 206.4,\n",
       "       206.5, 206.6, 206.7, 206.8, 206.9, 207. , 207.1, 207.2, 207.3,\n",
       "       207.4, 207.5, 207.6, 207.7, 207.8, 207.9, 208. , 208.1, 208.2,\n",
       "       208.3, 208.4, 208.5, 208.6, 208.7, 208.8, 208.9, 209. , 209.1,\n",
       "       209.2, 209.3, 209.4, 209.5, 209.6, 209.7, 209.8, 209.9, 210. ,\n",
       "       210.1, 210.2, 210.3, 210.4, 210.5, 210.6, 210.7, 210.8, 210.9])"
      ]
     },
     "execution_count": 34,
     "metadata": {},
     "output_type": "execute_result"
    }
   ],
   "source": [
    "xrange = np.arange(130, 211, 0.1)\n",
    "xrange"
   ]
  },
  {
   "cell_type": "code",
   "execution_count": 35,
   "metadata": {},
   "outputs": [],
   "source": [
    "nd1 = stats.norm.pdf(xrange, loc = 170, scale = 15)\n",
    "nd2 = stats.norm.pdf(xrange, loc = 170, scale = 10)\n",
    "nd3 = stats.norm.pdf(xrange, loc = 170, scale = 5)"
   ]
  },
  {
   "cell_type": "code",
   "execution_count": 37,
   "metadata": {},
   "outputs": [
    {
     "data": {
      "image/png": "[encoded data removed]",
      "text/plain": [
       "<Figure size 432x288 with 1 Axes>"
      ]
     },
     "metadata": {
      "needs_background": "light"
     },
     "output_type": "display_data"
    }
   ],
   "source": [
    "plt.title(\"Normal Distribution Curve\", fontsize = 16)\n",
    "plt.plot(xrange, nd1)\n",
    "plt.plot(xrange, nd2)\n",
    "plt.plot(xrange, nd3)\n",
    "plt.show()"
   ]
  },
  {
   "cell_type": "code",
   "execution_count": 38,
   "metadata": {},
   "outputs": [],
   "source": [
    "scaled = stats.zscore(heights)"
   ]
  },
  {
   "cell_type": "code",
   "execution_count": 39,
   "metadata": {},
   "outputs": [
    {
     "data": {
      "text/plain": [
       "-3.674838211509268e-15"
      ]
     },
     "execution_count": 39,
     "metadata": {},
     "output_type": "execute_result"
    }
   ],
   "source": [
    "np.mean(scaled)"
   ]
  },
  {
   "cell_type": "code",
   "execution_count": 40,
   "metadata": {},
   "outputs": [
    {
     "data": {
      "text/plain": [
       "1.0"
      ]
     },
     "execution_count": 40,
     "metadata": {},
     "output_type": "execute_result"
    }
   ],
   "source": [
    "np.std(scaled)"
   ]
  },
  {
   "cell_type": "code",
   "execution_count": 41,
   "metadata": {},
   "outputs": [
    {
     "data": {
      "text/plain": [
       "0.02659615202676218"
      ]
     },
     "execution_count": 41,
     "metadata": {},
     "output_type": "execute_result"
    }
   ],
   "source": [
    "stats.norm(170, 15).pdf(170)"
   ]
  },
  {
   "cell_type": "code",
   "execution_count": 42,
   "metadata": {},
   "outputs": [
    {
     "data": {
      "text/plain": [
       "0.02129653370149015"
      ]
     },
     "execution_count": 42,
     "metadata": {},
     "output_type": "execute_result"
    }
   ],
   "source": [
    "stats.norm(170, 15).pdf(180)"
   ]
  },
  {
   "cell_type": "code",
   "execution_count": 43,
   "metadata": {},
   "outputs": [
    {
     "data": {
      "text/plain": [
       "0.024197072451914336"
      ]
     },
     "execution_count": 43,
     "metadata": {},
     "output_type": "execute_result"
    }
   ],
   "source": [
    "stats.norm(170, 10).pdf(180)"
   ]
  },
  {
   "cell_type": "code",
   "execution_count": 44,
   "metadata": {},
   "outputs": [
    {
     "data": {
      "text/plain": [
       "0.010798193302637612"
      ]
     },
     "execution_count": 44,
     "metadata": {},
     "output_type": "execute_result"
    }
   ],
   "source": [
    "stats.norm(170, 5).pdf(180)"
   ]
  },
  {
   "cell_type": "code",
   "execution_count": 45,
   "metadata": {},
   "outputs": [
    {
     "data": {
      "text/plain": [
       "0.5"
      ]
     },
     "execution_count": 45,
     "metadata": {},
     "output_type": "execute_result"
    }
   ],
   "source": [
    "stats.norm(170, 15).cdf(170)"
   ]
  },
  {
   "cell_type": "code",
   "execution_count": 46,
   "metadata": {},
   "outputs": [
    {
     "data": {
      "text/plain": [
       "0.7475074624530771"
      ]
     },
     "execution_count": 46,
     "metadata": {},
     "output_type": "execute_result"
    }
   ],
   "source": [
    "stats.norm(170, 15).cdf(180)"
   ]
  },
  {
   "cell_type": "code",
   "execution_count": 48,
   "metadata": {},
   "outputs": [
    {
     "data": {
      "text/plain": [
       "0.8413447460685429"
      ]
     },
     "execution_count": 48,
     "metadata": {},
     "output_type": "execute_result"
    }
   ],
   "source": [
    "stats.norm(170, 10).cdf(180)"
   ]
  },
  {
   "cell_type": "code",
   "execution_count": 49,
   "metadata": {},
   "outputs": [
    {
     "data": {
      "text/plain": [
       "0.9772498680518208"
      ]
     },
     "execution_count": 49,
     "metadata": {},
     "output_type": "execute_result"
    }
   ],
   "source": [
    "stats.norm(170, 5).cdf(180)"
   ]
  },
  {
   "cell_type": "code",
   "execution_count": null,
   "metadata": {},
   "outputs": [],
   "source": [
    "\n"
   ]
  }
 ],
 "metadata": {
  "kernelspec": {
   "display_name": "Python 3",
   "language": "python",
   "name": "python3"
  },
  "language_info": {
   "codemirror_mode": {
    "name": "ipython",
    "version": 3
   },
   "file_extension": ".py",
   "mimetype": "text/x-python",
   "name": "python",
   "nbconvert_exporter": "python",
   "pygments_lexer": "ipython3",
   "version": "3.7.6"
  }
 },
 "nbformat": 4,
 "nbformat_minor": 4
}
