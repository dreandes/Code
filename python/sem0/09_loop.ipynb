{
 "cells": [
  {
   "cell_type": "markdown",
   "metadata": {},
   "source": [
    "### 반복문 : Loop\n",
    "- while\n",
    "- break\n",
    "- continue\n",
    "- for"
   ]
  },
  {
   "cell_type": "markdown",
   "metadata": {},
   "source": [
    "#### 1. while\n",
    "- condtion이 False가 될때까지 code를 반복적으로 실행\n",
    "\n",
    "'''\n",
    "while <condition>:\n",
    "    <code>\n",
    "'''\n",
    "- while 무한루프에 빠질 위험이 있으므로 주의해서 사용을 해야합니다."
   ]
  },
  {
   "cell_type": "code",
   "execution_count": 3,
   "metadata": {},
   "outputs": [
    {
     "name": "stdout",
     "output_type": "stream",
     "text": [
      "3\n",
      "2\n",
      "1\n"
     ]
    },
    {
     "data": {
      "text/plain": [
       "0"
      ]
     },
     "execution_count": 3,
     "metadata": {},
     "output_type": "execute_result"
    }
   ],
   "source": [
    "a = 3\n",
    "while a:\n",
    "    print(a)\n",
    "    a -= 1\n",
    "a"
   ]
  },
  {
   "cell_type": "code",
   "execution_count": 6,
   "metadata": {},
   "outputs": [
    {
     "ename": "KeyboardInterrupt",
     "evalue": "",
     "output_type": "error",
     "traceback": [
      "\u001b[1;31m---------------------------------------------------------------------------\u001b[0m",
      "\u001b[1;31mKeyboardInterrupt\u001b[0m                         Traceback (most recent call last)",
      "\u001b[1;32m<ipython-input-6-ab028b409a81>\u001b[0m in \u001b[0;36m<module>\u001b[1;34m\u001b[0m\n\u001b[0;32m      1\u001b[0m \u001b[1;31m# 무한루프 : Kernel -> Interrupt\u001b[0m\u001b[1;33m\u001b[0m\u001b[1;33m\u001b[0m\u001b[1;33m\u001b[0m\u001b[0m\n\u001b[0;32m      2\u001b[0m \u001b[1;32mwhile\u001b[0m \u001b[1;32mTrue\u001b[0m\u001b[1;33m:\u001b[0m\u001b[1;33m\u001b[0m\u001b[1;33m\u001b[0m\u001b[0m\n\u001b[1;32m----> 3\u001b[1;33m     \u001b[0ma\u001b[0m \u001b[1;33m=\u001b[0m \u001b[1;36m1\u001b[0m\u001b[1;33m\u001b[0m\u001b[1;33m\u001b[0m\u001b[0m\n\u001b[0m",
      "\u001b[1;31mKeyboardInterrupt\u001b[0m: "
     ]
    }
   ],
   "source": [
    "# 무한루프 : Kernel -> Interrupt\n",
    "while True:\n",
    "    a = 1"
   ]
  },
  {
   "cell_type": "code",
   "execution_count": null,
   "metadata": {},
   "outputs": [],
   "source": [
    "#### Quiz 1\n",
    "- ls 리스트 값을 while 문을 이용해서 모두 다 더하는 코드를 작성하세요\n",
    "\n",
    "ls = [1,2,3,4,5,6,7,8,9,10]"
   ]
  },
  {
   "cell_type": "code",
   "execution_count": 16,
   "metadata": {},
   "outputs": [
    {
     "data": {
      "text/plain": [
       "55"
      ]
     },
     "execution_count": 16,
     "metadata": {},
     "output_type": "execute_result"
    }
   ],
   "source": [
    "ls = [1,2,3,4,5,6,7,8,9,10]\n",
    "a = 0\n",
    "result = 0\n",
    "while a < len(ls):\n",
    "    result += ls[a]\n",
    "    a += 1\n",
    "result"
   ]
  },
  {
   "cell_type": "markdown",
   "metadata": {},
   "source": [
    "#### 2. break\n",
    "- 반복문이 실행되던 중간에 break 만나게 되면 반복문이 종료됩니다."
   ]
  },
  {
   "cell_type": "code",
   "execution_count": 18,
   "metadata": {},
   "outputs": [
    {
     "name": "stdout",
     "output_type": "stream",
     "text": [
      "3\n",
      "2\n"
     ]
    }
   ],
   "source": [
    "a = 3\n",
    "while a:\n",
    "    print(a)\n",
    "    if a == 2:\n",
    "        break\n",
    "    a -= 1"
   ]
  },
  {
   "cell_type": "markdown",
   "metadata": {},
   "source": [
    "#### 3. continue\n",
    "- 반복문이 실행되던 중간에 continue를 만나게 되면 반복문이 조건을 비교하는 부분으로 올라가서 코드가 실행"
   ]
  },
  {
   "cell_type": "code",
   "execution_count": 21,
   "metadata": {},
   "outputs": [
    {
     "name": "stdout",
     "output_type": "stream",
     "text": [
      "1\n",
      "3\n"
     ]
    }
   ],
   "source": [
    "a = [1,2,3,4,\"q\"]\n",
    "idx = 0\n",
    "\n",
    "while True:\n",
    "    data = a[idx]\n",
    "    idx += 1\n",
    "    \n",
    "    if data == \"q\":\n",
    "        break\n",
    "    elif data % 2 == 0:\n",
    "        continue # 도돌이표 같은 역활\n",
    "        \n",
    "    print(data)"
   ]
  },
  {
   "cell_type": "markdown",
   "metadata": {},
   "source": [
    "#### Quiz 2\n",
    "- q를 입력할 때까지 계속 값을 입력 받아서 q를 입력할 때 입력받은 값을 출력하는 코드를 작성하세요.\n",
    "- 데이터를 입력받을 때 몇번쨰 입력인지도 출력\n",
    "\n",
    "\n",
    "'''\n",
    "1번쨰 입력 (종료 : q) : data\n",
    "\n",
    "2번쨰 입력 (종료 : q) : python\n",
    "\n",
    "3번쨰 입력 (종료 : q) : science\n",
    "\n",
    "4번쨰 입력 (종료 : q) : q\n",
    "\n",
    "[\"data\", \"python\", \"science\"]\n",
    "\n",
    "'''"
   ]
  },
  {
   "cell_type": "code",
   "execution_count": 2,
   "metadata": {},
   "outputs": [
    {
     "name": "stdout",
     "output_type": "stream",
     "text": [
      "1번째 입력 (종료 : q) :data\n",
      "2번째 입력 (종료 : q) :python\n",
      "3번째 입력 (종료 : q) :science\n",
      "4번째 입력 (종료 : q) :q\n",
      "['data', 'python', 'science']\n"
     ]
    }
   ],
   "source": [
    "count, result = 0, []\n",
    "\n",
    "while True:\n",
    "    count += 1\n",
    "    data = input(\"{}번째 입력 (종료 : q) :\".format(count))\n",
    "    \n",
    "    if data == \"q\":\n",
    "        break\n",
    "        \n",
    "    result.append(data)\n",
    "    \n",
    "print(result)"
   ]
  },
  {
   "cell_type": "code",
   "execution_count": 5,
   "metadata": {},
   "outputs": [
    {
     "name": "stdout",
     "output_type": "stream",
     "text": [
      "Insert = data\n",
      "Insert = python\n",
      "Insert = science\n",
      "Insert = q\n",
      "['data', 'python', 'science']\n"
     ]
    }
   ],
   "source": [
    "ls = []\n",
    "idx = 0\n",
    "\n",
    "while True:\n",
    "    ipt = input(\"Insert = \")\n",
    "    \n",
    "    if ipt == \"q\":\n",
    "        break\n",
    "    \n",
    "    ls.append(ipt)\n",
    "    idx += 1\n",
    "\n",
    "print(ls)   "
   ]
  },
  {
   "cell_type": "markdown",
   "metadata": {},
   "source": [
    "#### 4. for\n",
    "- 순서가 있는 데이터의 집합(iterable : 리스트, 튜플)에서 값을 꺼내서 변수에 대입시킨 후 for 구문 안에 있는 코드를 실행 시키는 반복문\n",
    "\n",
    "\n",
    "'''\n",
    "for <변수> in <순서가 있는 데이터 집합>:\n",
    "    <code>\n",
    "'''\n",
    "\n",
    "- range\n",
    "- enumerate\n",
    "- zip"
   ]
  },
  {
   "cell_type": "code",
   "execution_count": 8,
   "metadata": {},
   "outputs": [
    {
     "name": "stdout",
     "output_type": "stream",
     "text": [
      "0 1 2 3 4 "
     ]
    }
   ],
   "source": [
    "ls = [0,1,2,3,4]\n",
    "for value in ls:\n",
    "    print(value, end=\" \") # 5번실행"
   ]
  },
  {
   "cell_type": "code",
   "execution_count": 9,
   "metadata": {},
   "outputs": [
    {
     "name": "stdout",
     "output_type": "stream",
     "text": [
      "A\n",
      "B\n"
     ]
    }
   ],
   "source": [
    "# dictionary를 사용한 for 반복문\n",
    "dic = {\"A\": 1, \"B\": 2}\n",
    "for key in dic:\n",
    "    print(key)"
   ]
  },
  {
   "cell_type": "code",
   "execution_count": 10,
   "metadata": {},
   "outputs": [
    {
     "data": {
      "text/plain": [
       "dict_items([('A', 1), ('B', 2)])"
      ]
     },
     "execution_count": 10,
     "metadata": {},
     "output_type": "execute_result"
    }
   ],
   "source": [
    "dic.items()"
   ]
  },
  {
   "cell_type": "code",
   "execution_count": 12,
   "metadata": {},
   "outputs": [
    {
     "name": "stdout",
     "output_type": "stream",
     "text": [
      "A 1\n",
      "B 2\n"
     ]
    }
   ],
   "source": [
    "for key, value in dic.items():\n",
    "    print(key, value)"
   ]
  },
  {
   "cell_type": "markdown",
   "metadata": {},
   "source": [
    "#### Quiz 3\n",
    "- for 문을 이용하여 아래 리스트에 있는 숫자를 모두 더하는 코드를 작성하세요.\n",
    "- for 문과 할당연산자\n",
    "\n",
    "'''\n",
    "numbers = [1, 3, 5, 8, 10, 14]\n",
    "\n",
    "result => 41\n",
    "'''"
   ]
  },
  {
   "cell_type": "code",
   "execution_count": 15,
   "metadata": {},
   "outputs": [
    {
     "name": "stdout",
     "output_type": "stream",
     "text": [
      "41\n"
     ]
    }
   ],
   "source": [
    "numbers = [1, 3, 5, 8, 10, 14]\n",
    "result = 0\n",
    "for value in numbers:\n",
    "    result += value\n",
    "\n",
    "print(result)"
   ]
  },
  {
   "cell_type": "markdown",
   "metadata": {},
   "source": [
    "#### 4.1 range\n",
    "- list를 간편하게 생성해주는 함수입니다.\n",
    "- 함수 : 코드의 집합을 실행시켜주는 방법\n",
    "    \n",
    "'''\n",
    "range(end)\n",
    "\n",
    "range(start, end)\n",
    "\n",
    "range(start, end, stride) # stride => 점프\n",
    "'''"
   ]
  },
  {
   "cell_type": "code",
   "execution_count": 17,
   "metadata": {},
   "outputs": [
    {
     "data": {
      "text/plain": [
       "[1, 2, 3]"
      ]
     },
     "execution_count": 17,
     "metadata": {},
     "output_type": "execute_result"
    }
   ],
   "source": [
    "ls = [1,2,3]\n",
    "ls"
   ]
  },
  {
   "cell_type": "code",
   "execution_count": 18,
   "metadata": {},
   "outputs": [
    {
     "name": "stdout",
     "output_type": "stream",
     "text": [
      "data science\n",
      "data science\n",
      "data science\n"
     ]
    }
   ],
   "source": [
    "for _ in ls:\n",
    "    print(\"data science\")"
   ]
  },
  {
   "cell_type": "code",
   "execution_count": 20,
   "metadata": {},
   "outputs": [
    {
     "data": {
      "text/plain": [
       "[0, 1, 2]"
      ]
     },
     "execution_count": 20,
     "metadata": {},
     "output_type": "execute_result"
    }
   ],
   "source": [
    "list(range(3))"
   ]
  },
  {
   "cell_type": "code",
   "execution_count": 21,
   "metadata": {},
   "outputs": [
    {
     "name": "stdout",
     "output_type": "stream",
     "text": [
      "data science\n",
      "data science\n",
      "data science\n"
     ]
    }
   ],
   "source": [
    "for _ in range(3):\n",
    "    print(\"data science\")"
   ]
  },
  {
   "cell_type": "code",
   "execution_count": 22,
   "metadata": {},
   "outputs": [
    {
     "data": {
      "text/plain": [
       "[1, 2, 3, 4]"
      ]
     },
     "execution_count": 22,
     "metadata": {},
     "output_type": "execute_result"
    }
   ],
   "source": [
    "list(range(1, 5))"
   ]
  },
  {
   "cell_type": "code",
   "execution_count": 23,
   "metadata": {},
   "outputs": [
    {
     "data": {
      "text/plain": [
       "[1, 3, 5, 7, 9]"
      ]
     },
     "execution_count": 23,
     "metadata": {},
     "output_type": "execute_result"
    }
   ],
   "source": [
    "list(range(1, 10, 2))"
   ]
  },
  {
   "cell_type": "code",
   "execution_count": 24,
   "metadata": {},
   "outputs": [
    {
     "data": {
      "text/plain": [
       "[10, 9, 8, 7, 6, 5, 4, 3, 2, 1]"
      ]
     },
     "execution_count": 24,
     "metadata": {},
     "output_type": "execute_result"
    }
   ],
   "source": [
    "list(range(10, 0, -1))"
   ]
  },
  {
   "cell_type": "markdown",
   "metadata": {},
   "source": [
    "#### Quiz 4\n",
    "- 5를 입력했을 때 아래와 같이 별이 출력되는 코드를 작성하세요\n",
    "\n",
    "'''\n",
    "*\n",
    "**\n",
    "***\n",
    "****\n",
    "*****\n",
    "'''"
   ]
  },
  {
   "cell_type": "code",
   "execution_count": 25,
   "metadata": {},
   "outputs": [
    {
     "name": "stdout",
     "output_type": "stream",
     "text": [
      "*\n",
      "**\n",
      "***\n",
      "****\n",
      "*****\n"
     ]
    }
   ],
   "source": [
    "idx = 0\n",
    "for _ in range(5):\n",
    "    idx += 1\n",
    "    print(\"*\" * idx) "
   ]
  },
  {
   "cell_type": "code",
   "execution_count": 26,
   "metadata": {},
   "outputs": [
    {
     "name": "stdout",
     "output_type": "stream",
     "text": [
      "*\n",
      "**\n",
      "***\n",
      "****\n",
      "*****\n"
     ]
    }
   ],
   "source": [
    "number = 5\n",
    "for num in range(1, number + 1):\n",
    "    print(\"*\" * num)"
   ]
  },
  {
   "cell_type": "markdown",
   "metadata": {},
   "source": [
    "#### Quiz 4\n",
    "- 5를 입력했을 때 아래와 같이 별이 출력되는 코드를 작성하세요\n",
    "\n",
    "'''\n",
    "     *\n",
    "    **\n",
    "   ***\n",
    "  ****\n",
    " *****\n",
    "'''"
   ]
  },
  {
   "cell_type": "code",
   "execution_count": 28,
   "metadata": {},
   "outputs": [
    {
     "name": "stdout",
     "output_type": "stream",
     "text": [
      "    *\n",
      "   **\n",
      "  ***\n",
      " ****\n",
      "*****\n"
     ]
    }
   ],
   "source": [
    "number = 5\n",
    "for num in range(1, number + 1):\n",
    "    print(\" \" * (number - num) + \"*\" * num)"
   ]
  },
  {
   "cell_type": "markdown",
   "metadata": {},
   "source": [
    "#### Quiz 6\n",
    "- 홀수만 입력이 가능\n",
    "- 5를 입력하면 아래와 같이 별이 출력되도록 코드를 작성\n",
    "\n",
    "  *\n",
    " ***\n",
    "*****\n"
   ]
  },
  {
   "cell_type": "code",
   "execution_count": 31,
   "metadata": {},
   "outputs": [
    {
     "name": "stdout",
     "output_type": "stream",
     "text": [
      "  *\n",
      " ***\n",
      "*****\n"
     ]
    }
   ],
   "source": [
    "number = 5\n",
    "space = 3\n",
    "for num in range(1, number + 1, 2):\n",
    "    space -= 1\n",
    "    print(\" \" * space + \"*\" *num)"
   ]
  },
  {
   "cell_type": "code",
   "execution_count": 33,
   "metadata": {},
   "outputs": [
    {
     "name": "stdout",
     "output_type": "stream",
     "text": [
      "  *\n",
      " ***\n",
      "*****\n"
     ]
    }
   ],
   "source": [
    "number = 5\n",
    "space = number // 2\n",
    "for num in range(1, number + 1, 2):\n",
    "    print(\" \" * space + \"*\" *num)\n",
    "    space -= 1"
   ]
  },
  {
   "cell_type": "markdown",
   "metadata": {},
   "source": [
    "### Quiz 7\n",
    "- 구구단의 단을 입력하면 해당 단을 출력하는 코드를 작성하세요.\n",
    "\n",
    "'''\n",
    "input number : 4\n",
    "\n",
    "4단\n",
    "\n",
    "4*1 = 4\n",
    "\n",
    "4*2 = 8\n",
    "\n",
    "4*3 = 12\n",
    "\n",
    "...\n",
    "\n",
    "4*9 = 36\n",
    "\n",
    "'''"
   ]
  },
  {
   "cell_type": "code",
   "execution_count": 44,
   "metadata": {},
   "outputs": [
    {
     "name": "stdout",
     "output_type": "stream",
     "text": [
      "단을 입력하시오 : 6\n",
      "6단\n",
      "6*1 = 6\n",
      "6*2 = 12\n",
      "6*3 = 18\n",
      "6*4 = 24\n",
      "6*5 = 30\n",
      "6*6 = 36\n",
      "6*7 = 42\n",
      "6*8 = 48\n",
      "6*9 = 54\n"
     ]
    }
   ],
   "source": [
    "ipt = int(input(\"단을 입력하시오 : \"))\n",
    "print(\"{}단\".format(ipt))\n",
    "\n",
    "for num in range(1, 10):\n",
    "    print(\"{}*{} = {}\".format(ipt, num, ipt*num))"
   ]
  },
  {
   "cell_type": "markdown",
   "metadata": {},
   "source": [
    "### Quiz 8\n",
    "- 아래의 2개의 리스트 데이터를\n",
    "\n",
    "subject = [\"korean\", \"english\", \"math\", \"science\"]\n",
    "\n",
    "points = [100, 80, 90, 60]\n",
    "\n",
    "- for문을 이용하여 딕셔너리 데이터로 변경하는 코드를 작성하세요.\n",
    "\n",
    "result => {\"korean\": 100, \"english\": 80, \"math\": 90, \"science\": 60}\n"
   ]
  },
  {
   "cell_type": "code",
   "execution_count": 50,
   "metadata": {},
   "outputs": [
    {
     "name": "stdout",
     "output_type": "stream",
     "text": [
      "{'korean': 100, 'english': 80, 'math': 90, 'science': 60}\n"
     ]
    }
   ],
   "source": [
    "subject = [\"korean\", \"english\", \"math\", \"science\"]\n",
    "points = [100, 80, 90, 60]\n",
    "result = {}\n",
    "\n",
    "for num in range(len(subject)):\n",
    "    result.update({subject[num]:points[num]})\n",
    "#    print(result)\n",
    "    \n",
    "print(result)"
   ]
  },
  {
   "cell_type": "code",
   "execution_count": 51,
   "metadata": {},
   "outputs": [
    {
     "name": "stdout",
     "output_type": "stream",
     "text": [
      "{'korean': 100, 'english': 80, 'math': 90, 'science': 60}\n"
     ]
    }
   ],
   "source": [
    "subject = [\"korean\", \"english\", \"math\", \"science\"]\n",
    "points = [100, 80, 90, 60]\n",
    "result = {}\n",
    "\n",
    "for num in range(len(subject)):\n",
    "    result[subject[num]] = points[num]\n",
    "\n",
    "print(result)"
   ]
  },
  {
   "cell_type": "markdown",
   "metadata": {},
   "source": [
    "### 4.2 enumerate\n",
    "- 리스트 데이터의 index와 value값을 동시에 사용할 수 있게 해주는 함수입니다."
   ]
  },
  {
   "cell_type": "code",
   "execution_count": 52,
   "metadata": {},
   "outputs": [
    {
     "name": "stdout",
     "output_type": "stream",
     "text": [
      "1 korean\n",
      "2 english\n",
      "3 math\n",
      "4 science\n"
     ]
    }
   ],
   "source": [
    "# 과목명과 과목번호를 같이 출력\n",
    "subjects = [\"korean\", \"english\", \"math\", \"science\"]\n",
    "number = 1\n",
    "for subject in subjects:\n",
    "    print(number, subject)\n",
    "    number += 1"
   ]
  },
  {
   "cell_type": "code",
   "execution_count": 53,
   "metadata": {},
   "outputs": [
    {
     "data": {
      "text/plain": [
       "[(0, 'korean'), (1, 'english'), (2, 'math'), (3, 'science')]"
      ]
     },
     "execution_count": 53,
     "metadata": {},
     "output_type": "execute_result"
    }
   ],
   "source": [
    "list(enumerate(subjects))"
   ]
  },
  {
   "cell_type": "code",
   "execution_count": 54,
   "metadata": {},
   "outputs": [
    {
     "name": "stdout",
     "output_type": "stream",
     "text": [
      "1 korean\n",
      "2 english\n",
      "3 math\n",
      "4 science\n"
     ]
    }
   ],
   "source": [
    "for idx, subject in enumerate(subjects):\n",
    "    print(idx+1, subject)"
   ]
  },
  {
   "cell_type": "markdown",
   "metadata": {},
   "source": [
    "### 4.3 zip\n",
    "- n개의 리스트를 같은 index끼리 묶어주는 함수"
   ]
  },
  {
   "cell_type": "code",
   "execution_count": 56,
   "metadata": {},
   "outputs": [
    {
     "data": {
      "text/plain": [
       "[('korean', 100), ('english', 80), ('math', 90), ('science', 60)]"
      ]
     },
     "execution_count": 56,
     "metadata": {},
     "output_type": "execute_result"
    }
   ],
   "source": [
    "subject = [\"korean\", \"english\", \"math\", \"science\"]\n",
    "points = [100, 80, 90, 60]\n",
    "\n",
    "list(zip(subjects, points))"
   ]
  },
  {
   "cell_type": "code",
   "execution_count": 58,
   "metadata": {},
   "outputs": [
    {
     "data": {
      "text/plain": [
       "{'korean': 100, 'english': 80, 'math': 90, 'science': 60}"
      ]
     },
     "execution_count": 58,
     "metadata": {},
     "output_type": "execute_result"
    }
   ],
   "source": [
    "result = {}\n",
    "\n",
    "for subject, point in zip(subjects, points):\n",
    "    result[subject] = point\n",
    "result"
   ]
  },
  {
   "cell_type": "code",
   "execution_count": 59,
   "metadata": {},
   "outputs": [
    {
     "data": {
      "text/plain": [
       "{'korean': 100, 'english': 80, 'math': 90, 'science': 60}"
      ]
     },
     "execution_count": 59,
     "metadata": {},
     "output_type": "execute_result"
    }
   ],
   "source": [
    "dict(zip(subjects, points))"
   ]
  },
  {
   "cell_type": "markdown",
   "metadata": {},
   "source": [
    "### * 랜덤함수"
   ]
  },
  {
   "cell_type": "code",
   "execution_count": 3,
   "metadata": {},
   "outputs": [],
   "source": [
    "import random"
   ]
  },
  {
   "cell_type": "code",
   "execution_count": 65,
   "metadata": {},
   "outputs": [
    {
     "data": {
      "text/plain": [
       "7"
      ]
     },
     "execution_count": 65,
     "metadata": {},
     "output_type": "execute_result"
    }
   ],
   "source": [
    "# 1 ~ 10 랜덤하게 정수 데이터를 뽑고 싶으면\n",
    "random.randint(1,10)"
   ]
  },
  {
   "cell_type": "code",
   "execution_count": 73,
   "metadata": {},
   "outputs": [
    {
     "data": {
      "text/plain": [
       "1"
      ]
     },
     "execution_count": 73,
     "metadata": {},
     "output_type": "execute_result"
    }
   ],
   "source": [
    "# 설정한 데이터에서 하나의 데이터를 랜덤하게 뽑기\n",
    "random.choice([1, 5, 9])"
   ]
  },
  {
   "cell_type": "markdown",
   "metadata": {},
   "source": [
    "#### Quiz 9\n",
    "- 로또번호를 출력하는 코드를 작성하세요.\n",
    "- 1 ~ 45까지의 숫자 중에 6개 숫자를 뽑으시면 됩니다.\n",
    "- 중복이 되지 않도록 6개의 숫자를 뽑으시면 됩니다.\n",
    "- while, break, if, in, list, append 사용\n",
    "\n",
    "'''\n",
    "result => [3, 8, 15, 19, 25, 31]\n",
    "'''"
   ]
  },
  {
   "cell_type": "code",
   "execution_count": 13,
   "metadata": {},
   "outputs": [
    {
     "data": {
      "text/plain": [
       "[17, 18, 20, 22, 24, 40]"
      ]
     },
     "execution_count": 13,
     "metadata": {},
     "output_type": "execute_result"
    }
   ],
   "source": [
    "result = []\n",
    "\n",
    "while True:\n",
    "    \n",
    "    value = random.randint(1,45)\n",
    "    \n",
    "    if num not in result:\n",
    "        result.append(value)\n",
    "    \n",
    "    if len(result) == 6:\n",
    "        break\n",
    "    \n",
    "result.sort()\n",
    "result"
   ]
  },
  {
   "cell_type": "code",
   "execution_count": 1,
   "metadata": {},
   "outputs": [
    {
     "name": "stdout",
     "output_type": "stream",
     "text": [
      "insert : 5\n",
      "True\n"
     ]
    }
   ],
   "source": [
    "# 연습\n",
    "ls = [1,2,3,4,5]\n",
    "num = int(input(\"insert : \"))\n",
    "if num in ls:\n",
    "    print(True)\n",
    "else:\n",
    "    print(False)"
   ]
  },
  {
   "cell_type": "code",
   "execution_count": null,
   "metadata": {},
   "outputs": [],
   "source": []
  },
  {
   "cell_type": "code",
   "execution_count": null,
   "metadata": {},
   "outputs": [],
   "source": []
  }
 ],
 "metadata": {
  "kernelspec": {
   "display_name": "Python 3",
   "language": "python",
   "name": "python3"
  },
  "language_info": {
   "codemirror_mode": {
    "name": "ipython",
    "version": 3
   },
   "file_extension": ".py",
   "mimetype": "text/x-python",
   "name": "python",
   "nbconvert_exporter": "python",
   "pygments_lexer": "ipython3",
   "version": "3.7.6"
  }
 },
 "nbformat": 4,
 "nbformat_minor": 4
}
