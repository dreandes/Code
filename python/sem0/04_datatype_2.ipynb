{
 "cells": [
  {
   "cell_type": "markdown",
   "metadata": {},
   "source": [
    "### 자료형\n",
    "- 리스트\n",
    "- 튜플\n",
    "- 딕셔너리"
   ]
  },
  {
   "cell_type": "markdown",
   "metadata": {},
   "source": [
    "### 리스트\n",
    "- 순서가 있는 데이터의 집합"
   ]
  },
  {
   "cell_type": "code",
   "execution_count": 2,
   "metadata": {},
   "outputs": [
    {
     "name": "stdout",
     "output_type": "stream",
     "text": [
      "<class 'list'> [1, 'python', False]\n"
     ]
    }
   ],
   "source": [
    "# 리스트 변수 선언하는 방법\n",
    "ls = [1,\"python\",False]\n",
    "print(type(ls), ls)"
   ]
  },
  {
   "cell_type": "code",
   "execution_count": 4,
   "metadata": {},
   "outputs": [
    {
     "name": "stdout",
     "output_type": "stream",
     "text": [
      "data@science@python <class 'str'>\n"
     ]
    }
   ],
   "source": [
    "# 리스트 데이터를 문자열로 합쳐주는 함수 - join\n",
    "a = [\"data\", \"science\", \"python\"]\n",
    "result = \"@\".join(a)\n",
    "print(result, type(result))"
   ]
  },
  {
   "cell_type": "markdown",
   "metadata": {},
   "source": [
    "### quiz 1\n",
    "- 리스트 데이터를 문자열로 합쳐서 문장으로 만들어 주세요.\n",
    "- 가장 앞글자는 대문자, 마지막에는 마침표를 찍어주세요.\n",
    "ls =[\"python\",\"is\", \"best\", \"programming\", \"language\"]"
   ]
  },
  {
   "cell_type": "code",
   "execution_count": 20,
   "metadata": {},
   "outputs": [
    {
     "name": "stdout",
     "output_type": "stream",
     "text": [
      "Python is best programming language.\n"
     ]
    }
   ],
   "source": [
    "ls =[\"python\", \"is\", \"best\", \"programming\", \"language\"]\n",
    "data1 = ls[0][0].upper() + ls[0][1:]\n",
    "data2 = \" \".join(ls[1:])\n",
    "print(data1 + \" \" + data2 + \".\")"
   ]
  },
  {
   "cell_type": "code",
   "execution_count": 25,
   "metadata": {},
   "outputs": [
    {
     "name": "stdout",
     "output_type": "stream",
     "text": [
      "Python is best programming language.\n"
     ]
    }
   ],
   "source": [
    "ls =[\"python\", \"is\", \"best\", \"programming\", \"language\"]\n",
    "result = \" \".join(ls)\n",
    "result = result[0].upper() + result[1:] + \".\"\n",
    "print(result)"
   ]
  },
  {
   "cell_type": "markdown",
   "metadata": {},
   "source": [
    "#### 리스트의 오프셋\n",
    "- 문자열은 하나의 문자를 오프셋 단위로 인식\n",
    "- 리스트는 하나의 값을 오프셋 단위로 인식"
   ]
  },
  {
   "cell_type": "code",
   "execution_count": 29,
   "metadata": {},
   "outputs": [
    {
     "name": "stdout",
     "output_type": "stream",
     "text": [
      "data\n"
     ]
    }
   ],
   "source": [
    "a = [\"python\", \"data\", 1, True, \"fast\"]\n",
    "print(a[1])"
   ]
  },
  {
   "cell_type": "code",
   "execution_count": 31,
   "metadata": {},
   "outputs": [
    {
     "name": "stdout",
     "output_type": "stream",
     "text": [
      "[1, True, 'fast']\n"
     ]
    }
   ],
   "source": [
    "print(a[2:])"
   ]
  },
  {
   "cell_type": "code",
   "execution_count": 32,
   "metadata": {},
   "outputs": [
    {
     "name": "stdout",
     "output_type": "stream",
     "text": [
      "['fast', True, 1, 'data', 'python']\n"
     ]
    }
   ],
   "source": [
    "print(a[::-1])"
   ]
  },
  {
   "cell_type": "code",
   "execution_count": 34,
   "metadata": {},
   "outputs": [
    {
     "name": "stdout",
     "output_type": "stream",
     "text": [
      "[True, 'fast']\n",
      "True\n"
     ]
    }
   ],
   "source": [
    "print(a[-2:])\n",
    "print(a[-2:][0])"
   ]
  },
  {
   "cell_type": "markdown",
   "metadata": {},
   "source": [
    "### quiz 2\n",
    "- 홀수 데이터를 거꾸로 출력하세요.\n",
    "- 오프셋 사용\n",
    "'''\n",
    "ls = [0,1,2,3,4,5,6,7,8,9]\n",
    "'''\n",
    "-결과\n",
    "'''\n",
    "result => [9,7,5,3,1]\n",
    "'''"
   ]
  },
  {
   "cell_type": "code",
   "execution_count": 37,
   "metadata": {},
   "outputs": [
    {
     "name": "stdout",
     "output_type": "stream",
     "text": [
      "[9, 7, 5, 3, 1]\n"
     ]
    }
   ],
   "source": [
    "ls = [0,1,2,3,4,5,6,7,8,9]\n",
    "result = ls[::-2]\n",
    "print(result)"
   ]
  },
  {
   "cell_type": "code",
   "execution_count": 41,
   "metadata": {},
   "outputs": [
    {
     "name": "stdout",
     "output_type": "stream",
     "text": [
      "[9, 7, 5, 3, 1]\n"
     ]
    }
   ],
   "source": [
    "ls = [0,1,2,3,4,5,6,7,8,9]\n",
    "result = ls[1::2][::-1] #오프셋 사용\n",
    "print(result)"
   ]
  },
  {
   "cell_type": "code",
   "execution_count": 42,
   "metadata": {},
   "outputs": [
    {
     "name": "stdout",
     "output_type": "stream",
     "text": [
      "['python', 'data', 'science']\n"
     ]
    }
   ],
   "source": [
    "# 리스트 데이터를 문자열 데이터로 바꿔주는 함수 : join\n",
    "# 문자열 데이터를 리슷트 데이터로 바꿔주는 함수 : split\n",
    "txt = \"python data science\"\n",
    "ls = [\"python\", \"data\", \"science\"]\n",
    "result = txt.split(\" \")\n",
    "print(result)"
   ]
  },
  {
   "cell_type": "markdown",
   "metadata": {},
   "source": [
    "### 리스트 함수\n",
    "- append : 데이터 추가\n",
    "- sort : 데이터 정렬\n",
    "- reverse : 데이터를 역순으로 정렬"
   ]
  },
  {
   "cell_type": "code",
   "execution_count": 45,
   "metadata": {},
   "outputs": [
    {
     "name": "stdout",
     "output_type": "stream",
     "text": [
      "['data', 'science', 'fastcampus']\n"
     ]
    }
   ],
   "source": [
    "# append 함수\n",
    "ls = [\"data\", \"science\"]\n",
    "ls.append(\"fastcampus\")\n",
    "print(ls)"
   ]
  },
  {
   "cell_type": "code",
   "execution_count": 46,
   "metadata": {},
   "outputs": [
    {
     "name": "stdout",
     "output_type": "stream",
     "text": [
      "['campus', 'data', 'fast', 'science']\n"
     ]
    }
   ],
   "source": [
    "# sort 함수\n",
    "ls = [\"fast\", \"data\", \"campus\", \"science\"]\n",
    "ls.sort()\n",
    "print(ls)"
   ]
  },
  {
   "cell_type": "code",
   "execution_count": 47,
   "metadata": {},
   "outputs": [
    {
     "name": "stdout",
     "output_type": "stream",
     "text": [
      "['science', 'fast', 'data', 'campus']\n"
     ]
    }
   ],
   "source": [
    "# reverse 함수\n",
    "ls.reverse()\n",
    "print(ls)"
   ]
  },
  {
   "cell_type": "code",
   "execution_count": 49,
   "metadata": {},
   "outputs": [
    {
     "name": "stdout",
     "output_type": "stream",
     "text": [
      "['science', 'slow', 'data', 'campus']\n"
     ]
    }
   ],
   "source": [
    "ls[1] = \"slow\"\n",
    "print(ls)"
   ]
  },
  {
   "cell_type": "markdown",
   "metadata": {},
   "source": [
    "### quiz 3\n",
    "- \"Beautiful is better than ugly.\" 단어의 길이가 긴 순서대로 재정렬해서 문장을 다시 만드는 코드를 작성해주세요\n",
    "- <list변수>.sort(key=len)\n",
    "\n",
    "- 결과\n",
    "'''\n",
    "Beautiful better ugly than is\n",
    "'''"
   ]
  },
  {
   "cell_type": "code",
   "execution_count": 52,
   "metadata": {},
   "outputs": [
    {
     "name": "stdout",
     "output_type": "stream",
     "text": [
      "['d', 'bc', 'abc', 'efgh']\n"
     ]
    }
   ],
   "source": [
    "data = [\"abc\", \"bc\", \"d\", \"efgh\"]\n",
    "data.sort(key=len)\n",
    "print(data)"
   ]
  },
  {
   "cell_type": "code",
   "execution_count": 56,
   "metadata": {},
   "outputs": [
    {
     "name": "stdout",
     "output_type": "stream",
     "text": [
      "['Beautiful', 'better', 'ugly', 'than', 'is']\n"
     ]
    }
   ],
   "source": [
    "data = [\"Beautiful\", \"is\", \"better\", \"than\", \"ugly\"]\n",
    "data.sort(key=len)\n",
    "data.reverse()\n",
    "print(data)"
   ]
  },
  {
   "cell_type": "code",
   "execution_count": 60,
   "metadata": {},
   "outputs": [
    {
     "name": "stdout",
     "output_type": "stream",
     "text": [
      "['Beautiful', 'better', 'ugly.', 'than', 'is']\n"
     ]
    }
   ],
   "source": [
    "txt = \"Beautiful is better than ugly.\"\n",
    "result = txt.lower()\n",
    "result = result.replace(\".\",\"\")\n",
    "result = txt.split(\" \")\n",
    "result.sort(key=len)\n",
    "result.reverse()\n",
    "print(result)"
   ]
  },
  {
   "cell_type": "code",
   "execution_count": 66,
   "metadata": {},
   "outputs": [
    {
     "name": "stdout",
     "output_type": "stream",
     "text": [
      "Beautiful better ugly than is.\n"
     ]
    }
   ],
   "source": [
    "txt = \"Beautiful is better than ugly.\"\n",
    "result = txt.lower()[:-1] # 굳이 소문자 만들어야하는지?\n",
    "result = result.split(\" \")\n",
    "result.sort(key=len)\n",
    "result.reverse()\n",
    "result = \" \".join(result)\n",
    "result = result[0].upper() + result[1:] + \".\"\n",
    "print(result)"
   ]
  },
  {
   "cell_type": "markdown",
   "metadata": {},
   "source": [
    "### 튜플\n",
    "- 리스트와 같지만 수정이 불가능한 데이터 타입\n",
    "- 리스트보다 저장공간을 적게 사용하는 특징"
   ]
  },
  {
   "cell_type": "code",
   "execution_count": 67,
   "metadata": {},
   "outputs": [
    {
     "name": "stdout",
     "output_type": "stream",
     "text": [
      "<class 'tuple'> (1, 2, 3)\n"
     ]
    }
   ],
   "source": [
    "# 튜플 선언\n",
    "tp = (1, 2, 3)\n",
    "print(type(tp), tp)"
   ]
  },
  {
   "cell_type": "code",
   "execution_count": 68,
   "metadata": {},
   "outputs": [
    {
     "ename": "TypeError",
     "evalue": "'tuple' object does not support item assignment",
     "output_type": "error",
     "traceback": [
      "\u001b[1;31m---------------------------------------------------------------------------\u001b[0m",
      "\u001b[1;31mTypeError\u001b[0m                                 Traceback (most recent call last)",
      "\u001b[1;32m<ipython-input-68-8cd29c42acc9>\u001b[0m in \u001b[0;36m<module>\u001b[1;34m\u001b[0m\n\u001b[1;32m----> 1\u001b[1;33m \u001b[0mtp\u001b[0m\u001b[1;33m[\u001b[0m\u001b[1;36m1\u001b[0m\u001b[1;33m]\u001b[0m \u001b[1;33m=\u001b[0m \u001b[1;36m10\u001b[0m\u001b[1;33m\u001b[0m\u001b[1;33m\u001b[0m\u001b[0m\n\u001b[0m",
      "\u001b[1;31mTypeError\u001b[0m: 'tuple' object does not support item assignment"
     ]
    }
   ],
   "source": [
    "tp[1] = 10"
   ]
  },
  {
   "cell_type": "code",
   "execution_count": 70,
   "metadata": {},
   "outputs": [
    {
     "data": {
      "text/plain": [
       "(1, 3)"
      ]
     },
     "execution_count": 70,
     "metadata": {},
     "output_type": "execute_result"
    }
   ],
   "source": [
    "# 튜플에서의 오프셋 인덱스 사용\n",
    "tp[0::2]"
   ]
  },
  {
   "cell_type": "code",
   "execution_count": 71,
   "metadata": {},
   "outputs": [
    {
     "name": "stdout",
     "output_type": "stream",
     "text": [
      "104 byte\n",
      "88 byte\n"
     ]
    }
   ],
   "source": [
    "import sys\n",
    "\n",
    "ls = [1,2,3,4,5]\n",
    "tp = (1,2,3,4,5)\n",
    "print(sys.getsizeof(ls), \"byte\")\n",
    "print(sys.getsizeof(tp), \"byte\")"
   ]
  },
  {
   "cell_type": "markdown",
   "metadata": {},
   "source": [
    "### 딕셔너리\n",
    "- 순서가 없는 데이터 집합\n",
    "- 키, 값으로 구성되어 있는 데이터 타입"
   ]
  },
  {
   "cell_type": "code",
   "execution_count": 76,
   "metadata": {},
   "outputs": [
    {
     "name": "stdout",
     "output_type": "stream",
     "text": [
      "<class 'dict'> {1: 'one', 'A': ['data', 'science'], '숫자': 1234}\n"
     ]
    }
   ],
   "source": [
    "# 선언\n",
    "dic = {\n",
    "    1:\"one\",\n",
    "    \"A\":[\"data\", \"science\"],\n",
    "    \"숫자\":1234,\n",
    "}\n",
    "print(type(dic), dic)"
   ]
  },
  {
   "cell_type": "code",
   "execution_count": 77,
   "metadata": {},
   "outputs": [
    {
     "data": {
      "text/plain": [
       "(['data', 'science'], 'one')"
      ]
     },
     "execution_count": 77,
     "metadata": {},
     "output_type": "execute_result"
    }
   ],
   "source": [
    "# 데이너에 접급\n",
    "dic[\"A\"], dic[1]"
   ]
  },
  {
   "cell_type": "code",
   "execution_count": 78,
   "metadata": {},
   "outputs": [
    {
     "data": {
      "text/plain": [
       "{1: '하나', 'A': ['data', 'science'], '숫자': 1234}"
      ]
     },
     "execution_count": 78,
     "metadata": {},
     "output_type": "execute_result"
    }
   ],
   "source": [
    "# 데이터 수정\n",
    "dic[1] = \"하나\"\n",
    "dic"
   ]
  },
  {
   "cell_type": "markdown",
   "metadata": {},
   "source": [
    "### quiz 1\n",
    "- 아래의 테이블 데이터를 딕셔너리 데이터 타입으로 선언하세요.\n",
    "\n",
    "key value\n",
    "name python\n",
    "adddr seoul\n",
    "age 25"
   ]
  },
  {
   "cell_type": "code",
   "execution_count": 79,
   "metadata": {},
   "outputs": [
    {
     "name": "stdout",
     "output_type": "stream",
     "text": [
      "{'name': 'python', 'addr': 'seoul', 'age': 25}\n"
     ]
    }
   ],
   "source": [
    "dic = {\n",
    "    \"name\":\"python\",\n",
    "    \"addr\":\"seoul\",\n",
    "    \"age\":25\n",
    "}\n",
    "\n",
    "print(dic)"
   ]
  },
  {
   "cell_type": "markdown",
   "metadata": {},
   "source": [
    "# 딕셔너리에서 키값으로 사용할 수 있는 데이터 타입은 문자열과 정수 데이터 타입만 사용 가능합니다."
   ]
  },
  {
   "cell_type": "code",
   "execution_count": 80,
   "metadata": {},
   "outputs": [
    {
     "data": {
      "text/plain": [
       "{'data1': 1, 'data2': 2, 'data3': 3}"
      ]
     },
     "execution_count": 80,
     "metadata": {},
     "output_type": "execute_result"
    }
   ],
   "source": [
    "# 딕셔너리에서는 오프셋 인덱스 사용불가\n",
    "dic = {\"data1\":1, \"data2\":2, \"data3\":3}\n",
    "dic"
   ]
  },
  {
   "cell_type": "code",
   "execution_count": 81,
   "metadata": {},
   "outputs": [
    {
     "ename": "KeyError",
     "evalue": "1",
     "output_type": "error",
     "traceback": [
      "\u001b[1;31m---------------------------------------------------------------------------\u001b[0m",
      "\u001b[1;31mKeyError\u001b[0m                                  Traceback (most recent call last)",
      "\u001b[1;32m<ipython-input-81-44fd7baa145e>\u001b[0m in \u001b[0;36m<module>\u001b[1;34m\u001b[0m\n\u001b[1;32m----> 1\u001b[1;33m \u001b[0mdic\u001b[0m\u001b[1;33m[\u001b[0m\u001b[1;36m1\u001b[0m\u001b[1;33m]\u001b[0m\u001b[1;33m\u001b[0m\u001b[1;33m\u001b[0m\u001b[0m\n\u001b[0m",
      "\u001b[1;31mKeyError\u001b[0m: 1"
     ]
    }
   ],
   "source": [
    "dic[1] # []안에는 key 값이 들어가야함"
   ]
  },
  {
   "cell_type": "markdown",
   "metadata": {},
   "source": [
    "#### 딕셔너리 함수\n",
    "- keys() : 키 데이터만 가져오는 함수\n",
    "- values() : 값 데이터만 가져오는 함수\n",
    "- items() : 키와 값을 가져오는 함수\n",
    "- update() : 두개의 딕셔너리를 합쳐주는 함수"
   ]
  },
  {
   "cell_type": "code",
   "execution_count": 82,
   "metadata": {},
   "outputs": [
    {
     "data": {
      "text/plain": [
       "{'data1': 1, 'data2': 2, 'data3': 3}"
      ]
     },
     "execution_count": 82,
     "metadata": {},
     "output_type": "execute_result"
    }
   ],
   "source": [
    "dic = {\n",
    "    \"data1\":1,\n",
    "    \"data2\":2,\n",
    "    \"data3\":3,\n",
    "}\n",
    "dic"
   ]
  },
  {
   "cell_type": "code",
   "execution_count": 83,
   "metadata": {},
   "outputs": [
    {
     "name": "stdout",
     "output_type": "stream",
     "text": [
      "<class 'dict_keys'> dict_keys(['data1', 'data2', 'data3'])\n"
     ]
    }
   ],
   "source": [
    "# keys\n",
    "result = dic.keys()\n",
    "print(type(result), result)"
   ]
  },
  {
   "cell_type": "code",
   "execution_count": 84,
   "metadata": {},
   "outputs": [
    {
     "data": {
      "text/plain": [
       "dict_values([1, 2, 3])"
      ]
     },
     "execution_count": 84,
     "metadata": {},
     "output_type": "execute_result"
    }
   ],
   "source": [
    "# values\n",
    "result = dic.values()\n",
    "result"
   ]
  },
  {
   "cell_type": "code",
   "execution_count": 85,
   "metadata": {},
   "outputs": [
    {
     "data": {
      "text/plain": [
       "dict_items([('data1', 1), ('data2', 2), ('data3', 3)])"
      ]
     },
     "execution_count": 85,
     "metadata": {},
     "output_type": "execute_result"
    }
   ],
   "source": [
    "# items\n",
    "result = dic.items()\n",
    "result"
   ]
  },
  {
   "cell_type": "code",
   "execution_count": 90,
   "metadata": {},
   "outputs": [
    {
     "name": "stdout",
     "output_type": "stream",
     "text": [
      "{1: 'a', 2: 'c', 3: 'd'}\n"
     ]
    }
   ],
   "source": [
    "# update\n",
    "dic1 = {1:\"a\", 2:\"b\"}\n",
    "dic2 = {2:\"c\", 3:\"d\"}\n",
    "# dic3 = {1:\"a\", 2:\"c\", 3:\"d\"}\n",
    "dic1.update(dic2)\n",
    "dic3 = dic1\n",
    "print(dic3)"
   ]
  },
  {
   "cell_type": "markdown",
   "metadata": {},
   "source": [
    "#### quiz 2\n",
    "- \"국어 점수는 80점, 영어 점수는 90점, 수학 점수는 70점\" 이 데이터를 리스트, 튜플, 딕셔너리 데이터 타입으로 나타내세요."
   ]
  },
  {
   "cell_type": "code",
   "execution_count": 93,
   "metadata": {},
   "outputs": [
    {
     "name": "stdout",
     "output_type": "stream",
     "text": [
      "['kor', 80, 'eng', 90, 'mat', 70] ('kor', 80, 'eng', 90, 'mat', 70) {'kor': 80, 'eng': 90, 'mat': 70}\n"
     ]
    }
   ],
   "source": [
    "ls = [\"kor\", 80, \"eng\", 90, \"mat\", 70]\n",
    "tp = (\"kor\", 80, \"eng\", 90, \"mat\", 70)\n",
    "dic = {\"kor\":80, \"eng\":90, \"mat\":70}\n",
    "print(ls, tp, dic)"
   ]
  },
  {
   "cell_type": "code",
   "execution_count": 99,
   "metadata": {},
   "outputs": [
    {
     "name": "stdout",
     "output_type": "stream",
     "text": [
      "{'kor': 80, 'eng': 90, 'mat': 70}\n"
     ]
    }
   ],
   "source": [
    "# answer\n",
    "# List 1\n",
    "sub = [\"kor\", \"eng\", \"mat\"]\n",
    "sco = [80, 90, 70]\n",
    "#print(sub, sco)\n",
    "\n",
    "# List 2\n",
    "ls = [(\"kor\", 80), (\"eng\", 90), (\"mat\", 70)]\n",
    "#print(ls)\n",
    "\n",
    "# Tuple\n",
    "tp = ((\"kor\", 80), (\"eng\", 90), (\"mat\", 70))\n",
    "#print(tp)\n",
    "\n",
    "# Dictionary\n",
    "dic = {\n",
    "    \"kor\":80,\n",
    "    \"eng\":90,\n",
    "    \"mat\":70\n",
    "}\n",
    "print(dic)"
   ]
  },
  {
   "cell_type": "code",
   "execution_count": null,
   "metadata": {},
   "outputs": [],
   "source": []
  },
  {
   "cell_type": "code",
   "execution_count": null,
   "metadata": {},
   "outputs": [],
   "source": []
  }
 ],
 "metadata": {
  "kernelspec": {
   "display_name": "Python 3",
   "language": "python",
   "name": "python3"
  },
  "language_info": {
   "codemirror_mode": {
    "name": "ipython",
    "version": 3
   },
   "file_extension": ".py",
   "mimetype": "text/x-python",
   "name": "python",
   "nbconvert_exporter": "python",
   "pygments_lexer": "ipython3",
   "version": "3.7.6"
  }
 },
 "nbformat": 4,
 "nbformat_minor": 4
}
