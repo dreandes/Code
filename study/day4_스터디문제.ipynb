{
 "cells": [
  {
   "cell_type": "markdown",
   "metadata": {
    "slideshow": {
     "slide_type": "slide"
    }
   },
   "source": [
    "# 모듈이란 무엇인가?"
   ]
  },
  {
   "cell_type": "markdown",
   "metadata": {
    "slideshow": {
     "slide_type": "subslide"
    }
   },
   "source": [
    "# 모듈이란?\n",
    "\n",
    "- 변수, 함수, 클래스를 모아놓은 .py라는 확장자를 쓰는 파일이다.\n",
    "\n",
    "\n",
    "- 변수의 모음 --> 함수\n",
    "- 함수의 모음 --> 클래스\n",
    "- 클래스의 모음 --> 모듈\n",
    "- 모듈의 기능을 디렉토리 별로 정리한 것이 패키지\n"
   ]
  },
  {
   "cell_type": "markdown",
   "metadata": {
    "slideshow": {
     "slide_type": "slide"
    }
   },
   "source": [
    "# 패키지와 모듈의 차이?"
   ]
  },
  {
   "cell_type": "markdown",
   "metadata": {
    "slideshow": {
     "slide_type": "subslide"
    }
   },
   "source": [
    "### 모듈이 하나의 파이썬 파일이라면, 패키지는 파이썬 파일들을 포함하고 있는 디렉토리 입니다.\n",
    "### 패키지는 일반적인 디렉토리와 다르게 `__init__.py` 파일을 포함하고 있습니다.\n",
    "### 만약 디렉토리에 `__init__.py` 파일이 없을 경우, 이 것은 패키지가 아닌 일반 디렉토리 입니다."
   ]
  },
  {
   "cell_type": "markdown",
   "metadata": {
    "slideshow": {
     "slide_type": "slide"
    }
   },
   "source": [
    "# mangling은 어디에 왜 사용하는 기법인가요?"
   ]
  },
  {
   "cell_type": "markdown",
   "metadata": {
    "slideshow": {
     "slide_type": "subslide"
    }
   },
   "source": [
    "### mangling은 사용자나 개발자가 다이렉트로 객체의 변수에 접근하지 못하게 하는 방법이며, 접근을 제한을 하고 싶은 변수 앞에 __를 붙여줍니다."
   ]
  },
  {
   "cell_type": "markdown",
   "metadata": {
    "slideshow": {
     "slide_type": "slide"
    }
   },
   "source": [
    "# 아래 코드에 mangling, getter 그리고 setter를 사용해서 num2 변수에 접근을 제한을 해보시기 바랍니다."
   ]
  },
  {
   "cell_type": "code",
   "execution_count": 24,
   "metadata": {
    "slideshow": {
     "slide_type": "slide"
    }
   },
   "outputs": [],
   "source": [
    "class Calculator:\n",
    "    \n",
    "    def __init__(self, num1, num2):\n",
    "        self.num1 = num1\n",
    "#######num2의 접근을 제한해주세요#######\n",
    "        self.num2 = num2\n",
    "    \n",
    "    def plus(self):\n",
    "        return self.num1 + self.num2\n",
    "    \n",
    "    def minus(self):\n",
    "        return self.num1 - self.num2\n",
    "    \n",
    "    def mul(self):\n",
    "        return self.num1 * self.__num2\n",
    "    \n",
    "    def div(self):\n",
    "        return self.num1 / self.__num2"
   ]
  },
  {
   "cell_type": "code",
   "execution_count": 25,
   "metadata": {
    "slideshow": {
     "slide_type": "subslide"
    }
   },
   "outputs": [],
   "source": [
    "class Calculator:\n",
    "    \n",
    "    def __init__(self, num1, num2):\n",
    "        self.num1 = num1\n",
    "        self.__num2 = num2\n",
    "        \n",
    "    def getter(self):\n",
    "        return self.num1, self.__num2\n",
    "    \n",
    "    def setter(self, num2):\n",
    "        num2 = 1 if num2 == 0 else num2\n",
    "        self.__num2 = num2\n",
    "    \n",
    "    def plus(self):\n",
    "        return self.num1 + self.__num2\n",
    "    \n",
    "    def minus(self):\n",
    "        return self.num1 - self.__num2\n",
    "    \n",
    "    def mul(self):\n",
    "        return self.num1 * self.__num2\n",
    "    \n",
    "    def div(self):\n",
    "        return self.num1 / self.__num2\n",
    "    \n",
    "    number2 = property(getter, setter)"
   ]
  }
 ],
 "metadata": {
  "celltoolbar": "Slideshow",
  "kernelspec": {
   "display_name": "Python 3",
   "language": "python",
   "name": "python3"
  },
  "language_info": {
   "codemirror_mode": {
    "name": "ipython",
    "version": 3
   },
   "file_extension": ".py",
   "mimetype": "text/x-python",
   "name": "python",
   "nbconvert_exporter": "python",
   "pygments_lexer": "ipython3",
   "version": "3.7.6"
  }
 },
 "nbformat": 4,
 "nbformat_minor": 4
}
